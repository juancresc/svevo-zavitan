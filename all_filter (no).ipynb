{
 "cells": [
  {
   "cell_type": "code",
   "execution_count": 1,
   "metadata": {},
   "outputs": [],
   "source": [
    "import pandas as pd"
   ]
  },
  {
   "cell_type": "code",
   "execution_count": 34,
   "metadata": {},
   "outputs": [],
   "source": [
    "file_lan = 'data/variant_tl_svevo_all.vcf'\n",
    "file_lan_dic = 'data/variant_td_svevo_all.vcf'\n",
    "#no filtered\n",
    "file_lan_low = 'data/variant_tl_svevo_all.bcf'\n",
    "file_lan_dic_low = 'data/variant_td_svevo_all.bcf'"
   ]
  },
  {
   "cell_type": "code",
   "execution_count": 35,
   "metadata": {},
   "outputs": [],
   "source": [
    "vcf_cols = ['CHROM','POS','ID','REF','ALT','QUAL','FILTER','INFO','FORMAT','ALLELE']"
   ]
  },
  {
   "cell_type": "code",
   "execution_count": 36,
   "metadata": {},
   "outputs": [
    {
     "name": "stdout",
     "output_type": "stream",
     "text": [
      "137487\n"
     ]
    },
    {
     "data": {
      "text/html": [
       "<div>\n",
       "<style scoped>\n",
       "    .dataframe tbody tr th:only-of-type {\n",
       "        vertical-align: middle;\n",
       "    }\n",
       "\n",
       "    .dataframe tbody tr th {\n",
       "        vertical-align: top;\n",
       "    }\n",
       "\n",
       "    .dataframe thead th {\n",
       "        text-align: right;\n",
       "    }\n",
       "</style>\n",
       "<table border=\"1\" class=\"dataframe\">\n",
       "  <thead>\n",
       "    <tr style=\"text-align: right;\">\n",
       "      <th></th>\n",
       "      <th>CHROM</th>\n",
       "      <th>POS</th>\n",
       "      <th>ID</th>\n",
       "      <th>REF</th>\n",
       "      <th>ALT</th>\n",
       "      <th>QUAL</th>\n",
       "      <th>FILTER</th>\n",
       "      <th>INFO</th>\n",
       "      <th>FORMAT</th>\n",
       "      <th>ALLELE</th>\n",
       "      <th>LDN_DIC_new_id</th>\n",
       "      <th>LDN_DIC_what</th>\n",
       "    </tr>\n",
       "  </thead>\n",
       "  <tbody>\n",
       "    <tr>\n",
       "      <th>0</th>\n",
       "      <td>chr1A</td>\n",
       "      <td>10904</td>\n",
       "      <td>.</td>\n",
       "      <td>C</td>\n",
       "      <td>G</td>\n",
       "      <td>10.79230</td>\n",
       "      <td>.</td>\n",
       "      <td>DP=1;SGB=-0.379885;MQ0F=0;AC=2;AN=2;DP4=0,0,1,...</td>\n",
       "      <td>GT:PL</td>\n",
       "      <td>1/1:40,3,0</td>\n",
       "      <td>LDN_DIC_0</td>\n",
       "      <td>LDN_DIC</td>\n",
       "    </tr>\n",
       "    <tr>\n",
       "      <th>1</th>\n",
       "      <td>chr1A</td>\n",
       "      <td>10967</td>\n",
       "      <td>.</td>\n",
       "      <td>A</td>\n",
       "      <td>G</td>\n",
       "      <td>5.04598</td>\n",
       "      <td>.</td>\n",
       "      <td>DP=1;SGB=-0.379885;MQ0F=0;AC=2;AN=2;DP4=0,0,1,...</td>\n",
       "      <td>GT:PL</td>\n",
       "      <td>1/1:33,3,0</td>\n",
       "      <td>LDN_DIC_1</td>\n",
       "      <td>LDN_DIC</td>\n",
       "    </tr>\n",
       "    <tr>\n",
       "      <th>2</th>\n",
       "      <td>chr1A</td>\n",
       "      <td>1098670</td>\n",
       "      <td>.</td>\n",
       "      <td>T</td>\n",
       "      <td>C</td>\n",
       "      <td>225.00000</td>\n",
       "      <td>.</td>\n",
       "      <td>DP=33;VDB=0.115547;SGB=-0.693079;MQSB=1;MQ0F=0...</td>\n",
       "      <td>GT:PL</td>\n",
       "      <td>1/1:255,87,0</td>\n",
       "      <td>LDN_DIC_2</td>\n",
       "      <td>LDN_DIC</td>\n",
       "    </tr>\n",
       "    <tr>\n",
       "      <th>3</th>\n",
       "      <td>chr1A</td>\n",
       "      <td>1100905</td>\n",
       "      <td>.</td>\n",
       "      <td>A</td>\n",
       "      <td>G</td>\n",
       "      <td>10.79230</td>\n",
       "      <td>.</td>\n",
       "      <td>DP=1;SGB=-0.379885;MQ0F=0;AC=2;AN=2;DP4=0,0,1,...</td>\n",
       "      <td>GT:PL</td>\n",
       "      <td>1/1:40,3,0</td>\n",
       "      <td>LDN_DIC_3</td>\n",
       "      <td>LDN_DIC</td>\n",
       "    </tr>\n",
       "  </tbody>\n",
       "</table>\n",
       "</div>"
      ],
      "text/plain": [
       "   CHROM      POS ID REF ALT       QUAL FILTER  \\\n",
       "0  chr1A    10904  .   C   G   10.79230      .   \n",
       "1  chr1A    10967  .   A   G    5.04598      .   \n",
       "2  chr1A  1098670  .   T   C  225.00000      .   \n",
       "3  chr1A  1100905  .   A   G   10.79230      .   \n",
       "\n",
       "                                                INFO FORMAT        ALLELE  \\\n",
       "0  DP=1;SGB=-0.379885;MQ0F=0;AC=2;AN=2;DP4=0,0,1,...  GT:PL    1/1:40,3,0   \n",
       "1  DP=1;SGB=-0.379885;MQ0F=0;AC=2;AN=2;DP4=0,0,1,...  GT:PL    1/1:33,3,0   \n",
       "2  DP=33;VDB=0.115547;SGB=-0.693079;MQSB=1;MQ0F=0...  GT:PL  1/1:255,87,0   \n",
       "3  DP=1;SGB=-0.379885;MQ0F=0;AC=2;AN=2;DP4=0,0,1,...  GT:PL    1/1:40,3,0   \n",
       "\n",
       "  LDN_DIC_new_id LDN_DIC_what  \n",
       "0      LDN_DIC_0      LDN_DIC  \n",
       "1      LDN_DIC_1      LDN_DIC  \n",
       "2      LDN_DIC_2      LDN_DIC  \n",
       "3      LDN_DIC_3      LDN_DIC  "
      ]
     },
     "execution_count": 36,
     "metadata": {},
     "output_type": "execute_result"
    }
   ],
   "source": [
    "df_lan_dic = pd.read_csv(file_lan_dic_low, sep='\\t', comment='#', header=None)\n",
    "df_lan_dic.columns = vcf_cols\n",
    "df_lan_dic['LDN_DIC_new_id'] = 'LDN_DIC_' + df_lan_dic.index.astype(str)\n",
    "df_lan_dic['LDN_DIC_what'] = 'LDN_DIC'\n",
    "print(len(df_lan_dic.index))\n",
    "df_lan_dic.head(4)"
   ]
  },
  {
   "cell_type": "code",
   "execution_count": 37,
   "metadata": {},
   "outputs": [
    {
     "name": "stdout",
     "output_type": "stream",
     "text": [
      "132487\n"
     ]
    },
    {
     "data": {
      "text/html": [
       "<div>\n",
       "<style scoped>\n",
       "    .dataframe tbody tr th:only-of-type {\n",
       "        vertical-align: middle;\n",
       "    }\n",
       "\n",
       "    .dataframe tbody tr th {\n",
       "        vertical-align: top;\n",
       "    }\n",
       "\n",
       "    .dataframe thead th {\n",
       "        text-align: right;\n",
       "    }\n",
       "</style>\n",
       "<table border=\"1\" class=\"dataframe\">\n",
       "  <thead>\n",
       "    <tr style=\"text-align: right;\">\n",
       "      <th></th>\n",
       "      <th>CHROM</th>\n",
       "      <th>POS</th>\n",
       "      <th>ID</th>\n",
       "      <th>REF</th>\n",
       "      <th>ALT</th>\n",
       "      <th>QUAL</th>\n",
       "      <th>FILTER</th>\n",
       "      <th>INFO</th>\n",
       "      <th>FORMAT</th>\n",
       "      <th>ALLELE</th>\n",
       "      <th>LDN_new_id</th>\n",
       "      <th>LDN_what</th>\n",
       "    </tr>\n",
       "  </thead>\n",
       "  <tbody>\n",
       "    <tr>\n",
       "      <th>0</th>\n",
       "      <td>chr1A</td>\n",
       "      <td>1098670</td>\n",
       "      <td>.</td>\n",
       "      <td>T</td>\n",
       "      <td>C</td>\n",
       "      <td>225.0000</td>\n",
       "      <td>.</td>\n",
       "      <td>DP=28;VDB=0.98078;SGB=-0.693021;MQSB=1;MQ0F=0;...</td>\n",
       "      <td>GT:PL</td>\n",
       "      <td>1/1:255,81,0</td>\n",
       "      <td>LDN_0</td>\n",
       "      <td>LDN</td>\n",
       "    </tr>\n",
       "    <tr>\n",
       "      <th>1</th>\n",
       "      <td>chr1A</td>\n",
       "      <td>1099135</td>\n",
       "      <td>.</td>\n",
       "      <td>C</td>\n",
       "      <td>G</td>\n",
       "      <td>43.4147</td>\n",
       "      <td>.</td>\n",
       "      <td>DP=2;VDB=0.02;SGB=-0.453602;MQ0F=0;AC=2;AN=2;D...</td>\n",
       "      <td>GT:PL</td>\n",
       "      <td>1/1:73,6,0</td>\n",
       "      <td>LDN_1</td>\n",
       "      <td>LDN</td>\n",
       "    </tr>\n",
       "    <tr>\n",
       "      <th>2</th>\n",
       "      <td>chr1A</td>\n",
       "      <td>1099155</td>\n",
       "      <td>.</td>\n",
       "      <td>C</td>\n",
       "      <td>T</td>\n",
       "      <td>76.0000</td>\n",
       "      <td>.</td>\n",
       "      <td>DP=3;VDB=0.235765;SGB=-0.511536;MQSB=1;MQ0F=0;...</td>\n",
       "      <td>GT:PL</td>\n",
       "      <td>1/1:106,9,0</td>\n",
       "      <td>LDN_2</td>\n",
       "      <td>LDN</td>\n",
       "    </tr>\n",
       "    <tr>\n",
       "      <th>3</th>\n",
       "      <td>chr1A</td>\n",
       "      <td>1099936</td>\n",
       "      <td>.</td>\n",
       "      <td>C</td>\n",
       "      <td>T</td>\n",
       "      <td>10.7923</td>\n",
       "      <td>.</td>\n",
       "      <td>DP=1;SGB=-0.379885;MQ0F=0;AC=2;AN=2;DP4=0,0,1,...</td>\n",
       "      <td>GT:PL</td>\n",
       "      <td>1/1:40,3,0</td>\n",
       "      <td>LDN_3</td>\n",
       "      <td>LDN</td>\n",
       "    </tr>\n",
       "  </tbody>\n",
       "</table>\n",
       "</div>"
      ],
      "text/plain": [
       "   CHROM      POS ID REF ALT      QUAL FILTER  \\\n",
       "0  chr1A  1098670  .   T   C  225.0000      .   \n",
       "1  chr1A  1099135  .   C   G   43.4147      .   \n",
       "2  chr1A  1099155  .   C   T   76.0000      .   \n",
       "3  chr1A  1099936  .   C   T   10.7923      .   \n",
       "\n",
       "                                                INFO FORMAT        ALLELE  \\\n",
       "0  DP=28;VDB=0.98078;SGB=-0.693021;MQSB=1;MQ0F=0;...  GT:PL  1/1:255,81,0   \n",
       "1  DP=2;VDB=0.02;SGB=-0.453602;MQ0F=0;AC=2;AN=2;D...  GT:PL    1/1:73,6,0   \n",
       "2  DP=3;VDB=0.235765;SGB=-0.511536;MQSB=1;MQ0F=0;...  GT:PL   1/1:106,9,0   \n",
       "3  DP=1;SGB=-0.379885;MQ0F=0;AC=2;AN=2;DP4=0,0,1,...  GT:PL    1/1:40,3,0   \n",
       "\n",
       "  LDN_new_id LDN_what  \n",
       "0      LDN_0      LDN  \n",
       "1      LDN_1      LDN  \n",
       "2      LDN_2      LDN  \n",
       "3      LDN_3      LDN  "
      ]
     },
     "execution_count": 37,
     "metadata": {},
     "output_type": "execute_result"
    }
   ],
   "source": [
    "df_lan = pd.read_csv(file_lan_low, sep='\\t', comment='#', header=None)\n",
    "df_lan.columns = vcf_cols\n",
    "df_lan['LDN_new_id'] = 'LDN_' + df_lan.index.astype(str)\n",
    "df_lan['LDN_what'] = 'LDN'\n",
    "print(len(df_lan.index))\n",
    "df_lan.head(4)"
   ]
  },
  {
   "cell_type": "code",
   "execution_count": null,
   "metadata": {},
   "outputs": [],
   "source": []
  },
  {
   "cell_type": "code",
   "execution_count": 38,
   "metadata": {},
   "outputs": [],
   "source": [
    "#low quality"
   ]
  },
  {
   "cell_type": "code",
   "execution_count": 31,
   "metadata": {},
   "outputs": [
    {
     "name": "stdout",
     "output_type": "stream",
     "text": [
      "137487\n"
     ]
    }
   ],
   "source": [
    "df_lan_dic_low = pd.read_csv(file_lan_dic_low, sep='\\t', comment='#', header=None)\n",
    "df_lan_dic_low.columns = vcf_cols\n",
    "print(len(df_lan_dic_low.index))\n"
   ]
  },
  {
   "cell_type": "code",
   "execution_count": 32,
   "metadata": {},
   "outputs": [
    {
     "name": "stdout",
     "output_type": "stream",
     "text": [
      "132487\n"
     ]
    }
   ],
   "source": [
    "df_lan_low = pd.read_csv(file_lan_low, sep='\\t', comment='#', header=None)\n",
    "df_lan_low.columns = vcf_cols\n",
    "print(len(df_lan_low.index))\n"
   ]
  },
  {
   "cell_type": "code",
   "execution_count": null,
   "metadata": {},
   "outputs": [],
   "source": []
  },
  {
   "cell_type": "code",
   "execution_count": null,
   "metadata": {},
   "outputs": [],
   "source": []
  },
  {
   "cell_type": "code",
   "execution_count": 39,
   "metadata": {},
   "outputs": [],
   "source": [
    "#merging"
   ]
  },
  {
   "cell_type": "code",
   "execution_count": 40,
   "metadata": {},
   "outputs": [
    {
     "name": "stdout",
     "output_type": "stream",
     "text": [
      "60951\n"
     ]
    }
   ],
   "source": [
    "columns_ld = ['CHROM','POS','ALT','LDN_DIC_new_id']\n",
    "columns_l = ['CHROM','POS','ALT','LDN_new_id']\n",
    "df_merged = pd.merge(df_lan[columns_l], df_lan_dic[columns_ld], on=['CHROM','POS','ALT'])\n",
    "print(len(df_merged.index))"
   ]
  },
  {
   "cell_type": "code",
   "execution_count": 41,
   "metadata": {},
   "outputs": [
    {
     "data": {
      "text/html": [
       "<div>\n",
       "<style scoped>\n",
       "    .dataframe tbody tr th:only-of-type {\n",
       "        vertical-align: middle;\n",
       "    }\n",
       "\n",
       "    .dataframe tbody tr th {\n",
       "        vertical-align: top;\n",
       "    }\n",
       "\n",
       "    .dataframe thead th {\n",
       "        text-align: right;\n",
       "    }\n",
       "</style>\n",
       "<table border=\"1\" class=\"dataframe\">\n",
       "  <thead>\n",
       "    <tr style=\"text-align: right;\">\n",
       "      <th></th>\n",
       "      <th>CHROM</th>\n",
       "      <th>POS</th>\n",
       "      <th>ALT</th>\n",
       "      <th>LDN_new_id</th>\n",
       "      <th>LDN_DIC_new_id</th>\n",
       "    </tr>\n",
       "  </thead>\n",
       "  <tbody>\n",
       "    <tr>\n",
       "      <th>0</th>\n",
       "      <td>chr1A</td>\n",
       "      <td>1098670</td>\n",
       "      <td>C</td>\n",
       "      <td>LDN_0</td>\n",
       "      <td>LDN_DIC_2</td>\n",
       "    </tr>\n",
       "    <tr>\n",
       "      <th>1</th>\n",
       "      <td>chr1A</td>\n",
       "      <td>1101224</td>\n",
       "      <td>T</td>\n",
       "      <td>LDN_4</td>\n",
       "      <td>LDN_DIC_5</td>\n",
       "    </tr>\n",
       "    <tr>\n",
       "      <th>2</th>\n",
       "      <td>chr1A</td>\n",
       "      <td>1101457</td>\n",
       "      <td>C</td>\n",
       "      <td>LDN_5</td>\n",
       "      <td>LDN_DIC_6</td>\n",
       "    </tr>\n",
       "    <tr>\n",
       "      <th>3</th>\n",
       "      <td>chr1A</td>\n",
       "      <td>1101480</td>\n",
       "      <td>T</td>\n",
       "      <td>LDN_6</td>\n",
       "      <td>LDN_DIC_7</td>\n",
       "    </tr>\n",
       "  </tbody>\n",
       "</table>\n",
       "</div>"
      ],
      "text/plain": [
       "   CHROM      POS ALT LDN_new_id LDN_DIC_new_id\n",
       "0  chr1A  1098670   C      LDN_0      LDN_DIC_2\n",
       "1  chr1A  1101224   T      LDN_4      LDN_DIC_5\n",
       "2  chr1A  1101457   C      LDN_5      LDN_DIC_6\n",
       "3  chr1A  1101480   T      LDN_6      LDN_DIC_7"
      ]
     },
     "execution_count": 41,
     "metadata": {},
     "output_type": "execute_result"
    }
   ],
   "source": [
    "df_merged.head(4)"
   ]
  },
  {
   "cell_type": "code",
   "execution_count": 42,
   "metadata": {},
   "outputs": [
    {
     "name": "stdout",
     "output_type": "stream",
     "text": [
      "71536\n",
      "76536\n"
     ]
    }
   ],
   "source": [
    "df_lan_diff = df_lan[~df_lan['LDN_new_id'].isin(df_merged['LDN_new_id'])]\n",
    "df_lan_dic_diff = df_lan_dic[~df_lan_dic['LDN_DIC_new_id'].isin(df_merged['LDN_DIC_new_id'])]\n",
    "print(len(df_lan_diff.index))\n",
    "print(len(df_lan_dic_diff.index))"
   ]
  },
  {
   "cell_type": "code",
   "execution_count": 43,
   "metadata": {},
   "outputs": [
    {
     "data": {
      "text/html": [
       "<div>\n",
       "<style scoped>\n",
       "    .dataframe tbody tr th:only-of-type {\n",
       "        vertical-align: middle;\n",
       "    }\n",
       "\n",
       "    .dataframe tbody tr th {\n",
       "        vertical-align: top;\n",
       "    }\n",
       "\n",
       "    .dataframe thead th {\n",
       "        text-align: right;\n",
       "    }\n",
       "</style>\n",
       "<table border=\"1\" class=\"dataframe\">\n",
       "  <thead>\n",
       "    <tr style=\"text-align: right;\">\n",
       "      <th></th>\n",
       "      <th>CHROM</th>\n",
       "      <th>POS</th>\n",
       "      <th>ID</th>\n",
       "      <th>REF</th>\n",
       "      <th>ALT</th>\n",
       "      <th>QUAL</th>\n",
       "      <th>FILTER</th>\n",
       "      <th>INFO</th>\n",
       "      <th>FORMAT</th>\n",
       "      <th>ALLELE</th>\n",
       "      <th>LDN_DIC_new_id</th>\n",
       "      <th>LDN_DIC_what</th>\n",
       "    </tr>\n",
       "  </thead>\n",
       "  <tbody>\n",
       "    <tr>\n",
       "      <th>0</th>\n",
       "      <td>chr1A</td>\n",
       "      <td>10904</td>\n",
       "      <td>.</td>\n",
       "      <td>C</td>\n",
       "      <td>G</td>\n",
       "      <td>10.79230</td>\n",
       "      <td>.</td>\n",
       "      <td>DP=1;SGB=-0.379885;MQ0F=0;AC=2;AN=2;DP4=0,0,1,...</td>\n",
       "      <td>GT:PL</td>\n",
       "      <td>1/1:40,3,0</td>\n",
       "      <td>LDN_DIC_0</td>\n",
       "      <td>LDN_DIC</td>\n",
       "    </tr>\n",
       "    <tr>\n",
       "      <th>1</th>\n",
       "      <td>chr1A</td>\n",
       "      <td>10967</td>\n",
       "      <td>.</td>\n",
       "      <td>A</td>\n",
       "      <td>G</td>\n",
       "      <td>5.04598</td>\n",
       "      <td>.</td>\n",
       "      <td>DP=1;SGB=-0.379885;MQ0F=0;AC=2;AN=2;DP4=0,0,1,...</td>\n",
       "      <td>GT:PL</td>\n",
       "      <td>1/1:33,3,0</td>\n",
       "      <td>LDN_DIC_1</td>\n",
       "      <td>LDN_DIC</td>\n",
       "    </tr>\n",
       "  </tbody>\n",
       "</table>\n",
       "</div>"
      ],
      "text/plain": [
       "   CHROM    POS ID REF ALT      QUAL FILTER  \\\n",
       "0  chr1A  10904  .   C   G  10.79230      .   \n",
       "1  chr1A  10967  .   A   G   5.04598      .   \n",
       "\n",
       "                                                INFO FORMAT      ALLELE  \\\n",
       "0  DP=1;SGB=-0.379885;MQ0F=0;AC=2;AN=2;DP4=0,0,1,...  GT:PL  1/1:40,3,0   \n",
       "1  DP=1;SGB=-0.379885;MQ0F=0;AC=2;AN=2;DP4=0,0,1,...  GT:PL  1/1:33,3,0   \n",
       "\n",
       "  LDN_DIC_new_id LDN_DIC_what  \n",
       "0      LDN_DIC_0      LDN_DIC  \n",
       "1      LDN_DIC_1      LDN_DIC  "
      ]
     },
     "execution_count": 43,
     "metadata": {},
     "output_type": "execute_result"
    }
   ],
   "source": [
    "df_lan_dic_diff.head(2)"
   ]
  },
  {
   "cell_type": "code",
   "execution_count": 44,
   "metadata": {},
   "outputs": [
    {
     "data": {
      "text/html": [
       "<div>\n",
       "<style scoped>\n",
       "    .dataframe tbody tr th:only-of-type {\n",
       "        vertical-align: middle;\n",
       "    }\n",
       "\n",
       "    .dataframe tbody tr th {\n",
       "        vertical-align: top;\n",
       "    }\n",
       "\n",
       "    .dataframe thead th {\n",
       "        text-align: right;\n",
       "    }\n",
       "</style>\n",
       "<table border=\"1\" class=\"dataframe\">\n",
       "  <thead>\n",
       "    <tr style=\"text-align: right;\">\n",
       "      <th></th>\n",
       "      <th>CHROM</th>\n",
       "      <th>POS</th>\n",
       "      <th>ID</th>\n",
       "      <th>REF</th>\n",
       "      <th>ALT</th>\n",
       "      <th>QUAL</th>\n",
       "      <th>FILTER</th>\n",
       "      <th>INFO</th>\n",
       "      <th>FORMAT</th>\n",
       "      <th>ALLELE</th>\n",
       "      <th>LDN_new_id</th>\n",
       "      <th>what</th>\n",
       "    </tr>\n",
       "  </thead>\n",
       "  <tbody>\n",
       "    <tr>\n",
       "      <th>1</th>\n",
       "      <td>chr1A</td>\n",
       "      <td>1099135</td>\n",
       "      <td>.</td>\n",
       "      <td>C</td>\n",
       "      <td>G</td>\n",
       "      <td>43.4147</td>\n",
       "      <td>.</td>\n",
       "      <td>DP=2;VDB=0.02;SGB=-0.453602;MQ0F=0;AC=2;AN=2;D...</td>\n",
       "      <td>GT:PL</td>\n",
       "      <td>1/1:73,6,0</td>\n",
       "      <td>LDN_1</td>\n",
       "      <td>LDN</td>\n",
       "    </tr>\n",
       "    <tr>\n",
       "      <th>2</th>\n",
       "      <td>chr1A</td>\n",
       "      <td>1099155</td>\n",
       "      <td>.</td>\n",
       "      <td>C</td>\n",
       "      <td>T</td>\n",
       "      <td>76.0000</td>\n",
       "      <td>.</td>\n",
       "      <td>DP=3;VDB=0.235765;SGB=-0.511536;MQSB=1;MQ0F=0;...</td>\n",
       "      <td>GT:PL</td>\n",
       "      <td>1/1:106,9,0</td>\n",
       "      <td>LDN_2</td>\n",
       "      <td>LDN</td>\n",
       "    </tr>\n",
       "  </tbody>\n",
       "</table>\n",
       "</div>"
      ],
      "text/plain": [
       "   CHROM      POS ID REF ALT     QUAL FILTER  \\\n",
       "1  chr1A  1099135  .   C   G  43.4147      .   \n",
       "2  chr1A  1099155  .   C   T  76.0000      .   \n",
       "\n",
       "                                                INFO FORMAT       ALLELE  \\\n",
       "1  DP=2;VDB=0.02;SGB=-0.453602;MQ0F=0;AC=2;AN=2;D...  GT:PL   1/1:73,6,0   \n",
       "2  DP=3;VDB=0.235765;SGB=-0.511536;MQSB=1;MQ0F=0;...  GT:PL  1/1:106,9,0   \n",
       "\n",
       "  LDN_new_id what  \n",
       "1      LDN_1  LDN  \n",
       "2      LDN_2  LDN  "
      ]
     },
     "execution_count": 44,
     "metadata": {},
     "output_type": "execute_result"
    }
   ],
   "source": [
    "df_lan_diff = df_lan_diff.rename(columns={'LDN_what':'what'})\n",
    "df_lan_diff.head(2)"
   ]
  },
  {
   "cell_type": "code",
   "execution_count": 45,
   "metadata": {},
   "outputs": [
    {
     "data": {
      "text/html": [
       "<div>\n",
       "<style scoped>\n",
       "    .dataframe tbody tr th:only-of-type {\n",
       "        vertical-align: middle;\n",
       "    }\n",
       "\n",
       "    .dataframe tbody tr th {\n",
       "        vertical-align: top;\n",
       "    }\n",
       "\n",
       "    .dataframe thead th {\n",
       "        text-align: right;\n",
       "    }\n",
       "</style>\n",
       "<table border=\"1\" class=\"dataframe\">\n",
       "  <thead>\n",
       "    <tr style=\"text-align: right;\">\n",
       "      <th></th>\n",
       "      <th>CHROM</th>\n",
       "      <th>POS</th>\n",
       "      <th>ID</th>\n",
       "      <th>REF</th>\n",
       "      <th>ALT</th>\n",
       "      <th>QUAL</th>\n",
       "      <th>FILTER</th>\n",
       "      <th>INFO</th>\n",
       "      <th>FORMAT</th>\n",
       "      <th>ALLELE</th>\n",
       "      <th>LDN_DIC_new_id</th>\n",
       "      <th>what</th>\n",
       "    </tr>\n",
       "  </thead>\n",
       "  <tbody>\n",
       "    <tr>\n",
       "      <th>0</th>\n",
       "      <td>chr1A</td>\n",
       "      <td>10904</td>\n",
       "      <td>.</td>\n",
       "      <td>C</td>\n",
       "      <td>G</td>\n",
       "      <td>10.79230</td>\n",
       "      <td>.</td>\n",
       "      <td>DP=1;SGB=-0.379885;MQ0F=0;AC=2;AN=2;DP4=0,0,1,...</td>\n",
       "      <td>GT:PL</td>\n",
       "      <td>1/1:40,3,0</td>\n",
       "      <td>LDN_DIC_0</td>\n",
       "      <td>LDN_DIC</td>\n",
       "    </tr>\n",
       "    <tr>\n",
       "      <th>1</th>\n",
       "      <td>chr1A</td>\n",
       "      <td>10967</td>\n",
       "      <td>.</td>\n",
       "      <td>A</td>\n",
       "      <td>G</td>\n",
       "      <td>5.04598</td>\n",
       "      <td>.</td>\n",
       "      <td>DP=1;SGB=-0.379885;MQ0F=0;AC=2;AN=2;DP4=0,0,1,...</td>\n",
       "      <td>GT:PL</td>\n",
       "      <td>1/1:33,3,0</td>\n",
       "      <td>LDN_DIC_1</td>\n",
       "      <td>LDN_DIC</td>\n",
       "    </tr>\n",
       "  </tbody>\n",
       "</table>\n",
       "</div>"
      ],
      "text/plain": [
       "   CHROM    POS ID REF ALT      QUAL FILTER  \\\n",
       "0  chr1A  10904  .   C   G  10.79230      .   \n",
       "1  chr1A  10967  .   A   G   5.04598      .   \n",
       "\n",
       "                                                INFO FORMAT      ALLELE  \\\n",
       "0  DP=1;SGB=-0.379885;MQ0F=0;AC=2;AN=2;DP4=0,0,1,...  GT:PL  1/1:40,3,0   \n",
       "1  DP=1;SGB=-0.379885;MQ0F=0;AC=2;AN=2;DP4=0,0,1,...  GT:PL  1/1:33,3,0   \n",
       "\n",
       "  LDN_DIC_new_id     what  \n",
       "0      LDN_DIC_0  LDN_DIC  \n",
       "1      LDN_DIC_1  LDN_DIC  "
      ]
     },
     "execution_count": 45,
     "metadata": {},
     "output_type": "execute_result"
    }
   ],
   "source": [
    "df_lan_dic_diff = df_lan_dic_diff.rename(columns={'LDN_DIC_what':'what'})\n",
    "df_lan_dic_diff.head(2)"
   ]
  },
  {
   "cell_type": "code",
   "execution_count": 46,
   "metadata": {},
   "outputs": [],
   "source": [
    "vcf_cols.append('what')\n",
    "df_lan_diff = df_lan_diff[vcf_cols]\n",
    "df_lan_dic_diff = df_lan_dic_diff[vcf_cols]"
   ]
  },
  {
   "cell_type": "code",
   "execution_count": null,
   "metadata": {},
   "outputs": [],
   "source": []
  },
  {
   "cell_type": "code",
   "execution_count": 47,
   "metadata": {},
   "outputs": [
    {
     "name": "stdout",
     "output_type": "stream",
     "text": [
      "148072\n"
     ]
    }
   ],
   "source": [
    "df_res = pd.concat([df_lan_diff, df_lan_dic_diff],sort=False)\n",
    "print(len(df_res.index))"
   ]
  },
  {
   "cell_type": "code",
   "execution_count": 48,
   "metadata": {},
   "outputs": [
    {
     "data": {
      "text/html": [
       "<div>\n",
       "<style scoped>\n",
       "    .dataframe tbody tr th:only-of-type {\n",
       "        vertical-align: middle;\n",
       "    }\n",
       "\n",
       "    .dataframe tbody tr th {\n",
       "        vertical-align: top;\n",
       "    }\n",
       "\n",
       "    .dataframe thead th {\n",
       "        text-align: right;\n",
       "    }\n",
       "</style>\n",
       "<table border=\"1\" class=\"dataframe\">\n",
       "  <thead>\n",
       "    <tr style=\"text-align: right;\">\n",
       "      <th></th>\n",
       "      <th>CHROM</th>\n",
       "      <th>POS</th>\n",
       "      <th>ID</th>\n",
       "      <th>REF</th>\n",
       "      <th>ALT</th>\n",
       "      <th>QUAL</th>\n",
       "      <th>FILTER</th>\n",
       "      <th>INFO</th>\n",
       "      <th>FORMAT</th>\n",
       "      <th>ALLELE</th>\n",
       "      <th>what</th>\n",
       "    </tr>\n",
       "  </thead>\n",
       "  <tbody>\n",
       "    <tr>\n",
       "      <th>1</th>\n",
       "      <td>chr1A</td>\n",
       "      <td>1099135</td>\n",
       "      <td>.</td>\n",
       "      <td>C</td>\n",
       "      <td>G</td>\n",
       "      <td>43.4147</td>\n",
       "      <td>.</td>\n",
       "      <td>DP=2;VDB=0.02;SGB=-0.453602;MQ0F=0;AC=2;AN=2;D...</td>\n",
       "      <td>GT:PL</td>\n",
       "      <td>1/1:73,6,0</td>\n",
       "      <td>LDN</td>\n",
       "    </tr>\n",
       "    <tr>\n",
       "      <th>2</th>\n",
       "      <td>chr1A</td>\n",
       "      <td>1099155</td>\n",
       "      <td>.</td>\n",
       "      <td>C</td>\n",
       "      <td>T</td>\n",
       "      <td>76.0000</td>\n",
       "      <td>.</td>\n",
       "      <td>DP=3;VDB=0.235765;SGB=-0.511536;MQSB=1;MQ0F=0;...</td>\n",
       "      <td>GT:PL</td>\n",
       "      <td>1/1:106,9,0</td>\n",
       "      <td>LDN</td>\n",
       "    </tr>\n",
       "  </tbody>\n",
       "</table>\n",
       "</div>"
      ],
      "text/plain": [
       "   CHROM      POS ID REF ALT     QUAL FILTER  \\\n",
       "1  chr1A  1099135  .   C   G  43.4147      .   \n",
       "2  chr1A  1099155  .   C   T  76.0000      .   \n",
       "\n",
       "                                                INFO FORMAT       ALLELE what  \n",
       "1  DP=2;VDB=0.02;SGB=-0.453602;MQ0F=0;AC=2;AN=2;D...  GT:PL   1/1:73,6,0  LDN  \n",
       "2  DP=3;VDB=0.235765;SGB=-0.511536;MQSB=1;MQ0F=0;...  GT:PL  1/1:106,9,0  LDN  "
      ]
     },
     "execution_count": 48,
     "metadata": {},
     "output_type": "execute_result"
    }
   ],
   "source": [
    "df_res.head(2)"
   ]
  },
  {
   "cell_type": "code",
   "execution_count": 49,
   "metadata": {},
   "outputs": [
    {
     "data": {
      "text/plain": [
       "CHROM  what   \n",
       "chr1A  LDN         4576\n",
       "       LDN_DIC     4769\n",
       "chr1B  LDN         6426\n",
       "       LDN_DIC     4338\n",
       "chr2A  LDN         4229\n",
       "       LDN_DIC     4204\n",
       "chr2B  LDN         5210\n",
       "       LDN_DIC     5755\n",
       "chr3A  LDN         4970\n",
       "       LDN_DIC    16244\n",
       "chr3B  LDN         5256\n",
       "       LDN_DIC     5157\n",
       "chr4A  LDN         4573\n",
       "       LDN_DIC     6432\n",
       "chr4B  LDN         4434\n",
       "       LDN_DIC     3791\n",
       "chr5A  LDN         4134\n",
       "       LDN_DIC     3910\n",
       "chr5B  LDN         4345\n",
       "       LDN_DIC     3780\n",
       "chr6A  LDN         4991\n",
       "       LDN_DIC     3814\n",
       "chr6B  LDN         6888\n",
       "       LDN_DIC     3355\n",
       "chr7A  LDN         4562\n",
       "       LDN_DIC     4658\n",
       "chr7B  LDN         4821\n",
       "       LDN_DIC     4375\n",
       "chrUn  LDN         2121\n",
       "       LDN_DIC     1954\n",
       "dtype: int64"
      ]
     },
     "execution_count": 49,
     "metadata": {},
     "output_type": "execute_result"
    }
   ],
   "source": [
    "df_res.groupby(['CHROM','what']).size()"
   ]
  },
  {
   "cell_type": "code",
   "execution_count": 50,
   "metadata": {},
   "outputs": [
    {
     "data": {
      "text/plain": [
       "what\n",
       "LDN        71536\n",
       "LDN_DIC    76536\n",
       "dtype: int64"
      ]
     },
     "execution_count": 50,
     "metadata": {},
     "output_type": "execute_result"
    }
   ],
   "source": [
    "df_res.groupby(['what']).size()"
   ]
  },
  {
   "cell_type": "code",
   "execution_count": 53,
   "metadata": {},
   "outputs": [],
   "source": [
    "df_res = df_res.drop(columns='what',axis=1)\n",
    "df_res.to_csv('data/diff.vcf', index=None, sep='\\t')"
   ]
  },
  {
   "cell_type": "code",
   "execution_count": null,
   "metadata": {},
   "outputs": [],
   "source": []
  },
  {
   "cell_type": "code",
   "execution_count": null,
   "metadata": {},
   "outputs": [],
   "source": []
  },
  {
   "cell_type": "code",
   "execution_count": 58,
   "metadata": {},
   "outputs": [
    {
     "name": "stdout",
     "output_type": "stream",
     "text": [
      "17600\n"
     ]
    },
    {
     "data": {
      "text/html": [
       "<div>\n",
       "<style scoped>\n",
       "    .dataframe tbody tr th:only-of-type {\n",
       "        vertical-align: middle;\n",
       "    }\n",
       "\n",
       "    .dataframe tbody tr th {\n",
       "        vertical-align: top;\n",
       "    }\n",
       "\n",
       "    .dataframe thead th {\n",
       "        text-align: right;\n",
       "    }\n",
       "</style>\n",
       "<table border=\"1\" class=\"dataframe\">\n",
       "  <thead>\n",
       "    <tr style=\"text-align: right;\">\n",
       "      <th></th>\n",
       "      <th>CHROM</th>\n",
       "      <th>POS</th>\n",
       "      <th>ID</th>\n",
       "      <th>REF</th>\n",
       "      <th>ALT</th>\n",
       "      <th>QUAL</th>\n",
       "      <th>FILTER</th>\n",
       "      <th>INFO</th>\n",
       "      <th>FORMAT</th>\n",
       "      <th>ALLELE</th>\n",
       "    </tr>\n",
       "  </thead>\n",
       "  <tbody>\n",
       "    <tr>\n",
       "      <th>0</th>\n",
       "      <td>chr1A</td>\n",
       "      <td>11625998</td>\n",
       "      <td>.</td>\n",
       "      <td>C</td>\n",
       "      <td>T</td>\n",
       "      <td>97</td>\n",
       "      <td>PASS</td>\n",
       "      <td>DP=5;VDB=0.0749805;SGB=-0.590765;MQSB=1;MQ0F=0...</td>\n",
       "      <td>GT:PL</td>\n",
       "      <td>1/1:127,15,0</td>\n",
       "    </tr>\n",
       "    <tr>\n",
       "      <th>1</th>\n",
       "      <td>chr1A</td>\n",
       "      <td>17989557</td>\n",
       "      <td>.</td>\n",
       "      <td>T</td>\n",
       "      <td>C</td>\n",
       "      <td>75</td>\n",
       "      <td>PASS</td>\n",
       "      <td>DP=4;VDB=0.131345;SGB=-0.556411;MQSB=1;MQ0F=0;...</td>\n",
       "      <td>GT:PL</td>\n",
       "      <td>1/1:105,12,0</td>\n",
       "    </tr>\n",
       "    <tr>\n",
       "      <th>2</th>\n",
       "      <td>chr1A</td>\n",
       "      <td>17989742</td>\n",
       "      <td>.</td>\n",
       "      <td>G</td>\n",
       "      <td>A</td>\n",
       "      <td>194</td>\n",
       "      <td>PASS</td>\n",
       "      <td>DP=8;VDB=0.530911;SGB=-0.651104;MQSB=0.992367;...</td>\n",
       "      <td>GT:PL</td>\n",
       "      <td>1/1:224,24,0</td>\n",
       "    </tr>\n",
       "    <tr>\n",
       "      <th>3</th>\n",
       "      <td>chr1A</td>\n",
       "      <td>24505602</td>\n",
       "      <td>.</td>\n",
       "      <td>T</td>\n",
       "      <td>G</td>\n",
       "      <td>111</td>\n",
       "      <td>PASS</td>\n",
       "      <td>DP=4;VDB=0.756056;SGB=-0.556411;MQSB=1;MQ0F=0;...</td>\n",
       "      <td>GT:PL</td>\n",
       "      <td>1/1:141,12,0</td>\n",
       "    </tr>\n",
       "  </tbody>\n",
       "</table>\n",
       "</div>"
      ],
      "text/plain": [
       "   CHROM       POS ID REF ALT  QUAL FILTER  \\\n",
       "0  chr1A  11625998  .   C   T    97   PASS   \n",
       "1  chr1A  17989557  .   T   C    75   PASS   \n",
       "2  chr1A  17989742  .   G   A   194   PASS   \n",
       "3  chr1A  24505602  .   T   G   111   PASS   \n",
       "\n",
       "                                                INFO FORMAT        ALLELE  \n",
       "0  DP=5;VDB=0.0749805;SGB=-0.590765;MQSB=1;MQ0F=0...  GT:PL  1/1:127,15,0  \n",
       "1  DP=4;VDB=0.131345;SGB=-0.556411;MQSB=1;MQ0F=0;...  GT:PL  1/1:105,12,0  \n",
       "2  DP=8;VDB=0.530911;SGB=-0.651104;MQSB=0.992367;...  GT:PL  1/1:224,24,0  \n",
       "3  DP=4;VDB=0.756056;SGB=-0.556411;MQSB=1;MQ0F=0;...  GT:PL  1/1:141,12,0  "
      ]
     },
     "execution_count": 58,
     "metadata": {},
     "output_type": "execute_result"
    }
   ],
   "source": [
    "df_f = pd.read_csv('data/diff.filtered.vcf', sep='\\t', comment='#', header=None)\n",
    "vcf_cols = ['CHROM','POS','ID','REF','ALT','QUAL','FILTER','INFO','FORMAT','ALLELE']\n",
    "df_f.columns = vcf_cols\n",
    "print(len(df_f.index))\n",
    "df_f.head(4)"
   ]
  },
  {
   "cell_type": "code",
   "execution_count": 60,
   "metadata": {},
   "outputs": [
    {
     "data": {
      "text/plain": [
       "CHROM\n",
       "chr1A     764\n",
       "chr1B    1361\n",
       "chr2A     615\n",
       "chr2B    1435\n",
       "chr3A    5655\n",
       "chr3B     792\n",
       "chr4A    1558\n",
       "chr4B     363\n",
       "chr5A     359\n",
       "chr5B     449\n",
       "chr6A    1047\n",
       "chr6B    1551\n",
       "chr7A     550\n",
       "chr7B     590\n",
       "chrUn     511\n",
       "dtype: int64"
      ]
     },
     "execution_count": 60,
     "metadata": {},
     "output_type": "execute_result"
    }
   ],
   "source": [
    "df_f.groupby(['CHROM']).size()"
   ]
  },
  {
   "cell_type": "code",
   "execution_count": null,
   "metadata": {},
   "outputs": [],
   "source": []
  },
  {
   "cell_type": "code",
   "execution_count": null,
   "metadata": {},
   "outputs": [],
   "source": []
  },
  {
   "cell_type": "code",
   "execution_count": null,
   "metadata": {},
   "outputs": [],
   "source": []
  }
 ],
 "metadata": {
  "kernelspec": {
   "display_name": "Python 3",
   "language": "python",
   "name": "python3"
  },
  "language_info": {
   "codemirror_mode": {
    "name": "ipython",
    "version": 3
   },
   "file_extension": ".py",
   "mimetype": "text/x-python",
   "name": "python",
   "nbconvert_exporter": "python",
   "pygments_lexer": "ipython3",
   "version": "3.6.5"
  }
 },
 "nbformat": 4,
 "nbformat_minor": 2
}
