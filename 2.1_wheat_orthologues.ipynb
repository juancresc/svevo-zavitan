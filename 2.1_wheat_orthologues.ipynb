{
 "cells": [
  {
   "cell_type": "code",
   "execution_count": 2,
   "metadata": {},
   "outputs": [],
   "source": [
    "import pandas as pd\n",
    "from Bio import SeqIO\n",
    "from Bio.SeqRecord import SeqRecord\n",
    "from Bio.Seq import Seq\n",
    "file_wheat = \"/Volumes/toshiba/bio/IWGSC/by_chr/iwgsc_refseqv1.0_chr3A.fsa\""
   ]
  },
  {
   "cell_type": "code",
   "execution_count": 3,
   "metadata": {},
   "outputs": [],
   "source": [
    "file_genes = \"/Volumes/toshiba/bio/daniela/counts/svevo.counts.fa\"\n",
    "file_limit = \"/Volumes/toshiba/bio/daniela/counts/svevo.limit.fa\"\n",
    "gene_list = ['TRITD3Av1G026860','TRITD3Av1G027040','TRITD3Av1G036950','TRITD3Av1G036910']"
   ]
  },
  {
   "cell_type": "code",
   "execution_count": 10,
   "metadata": {},
   "outputs": [],
   "source": [
    "file_genes = \"/Volumes/toshiba/bio/daniela/counts/zav_v2.counts.fa\"\n",
    "file_limit = \"/Volumes/toshiba/bio/daniela/counts/zavitan.limit.fa\"\n",
    "gene_list = ['TRIDC3Av2G023690','TRIDC3Av2G024160','TRIDC3Av2G034660', 'TRIDC3Av2G034210', 'TRIDC3Av2G034600','TRIDC3Av2G034360']\n"
   ]
  },
  {
   "cell_type": "code",
   "execution_count": 11,
   "metadata": {},
   "outputs": [
    {
     "data": {
      "text/plain": [
       "6"
      ]
     },
     "execution_count": 11,
     "metadata": {},
     "output_type": "execute_result"
    }
   ],
   "source": [
    "fasta_file = SeqIO.parse(file_genes, 'fasta')\n",
    "buffer_seqs = []\n",
    "for record in fasta_file:\n",
    "    if record.id in gene_list:\n",
    "        buffer_seqs.append(record)\n",
    "SeqIO.write(buffer_seqs, file_limit, \"fasta\")\n"
   ]
  },
  {
   "cell_type": "code",
   "execution_count": null,
   "metadata": {},
   "outputs": [],
   "source": [
    "# cat disk/counts/svevo.limit.fa disk/counts/zavitan.limit.fa > disk/counts/limits.fa"
   ]
  }
 ],
 "metadata": {
  "kernelspec": {
   "display_name": "Python 3",
   "language": "python",
   "name": "python3"
  },
  "language_info": {
   "codemirror_mode": {
    "name": "ipython",
    "version": 3
   },
   "file_extension": ".py",
   "mimetype": "text/x-python",
   "name": "python",
   "nbconvert_exporter": "python",
   "pygments_lexer": "ipython3",
   "version": "3.6.5"
  }
 },
 "nbformat": 4,
 "nbformat_minor": 2
}
