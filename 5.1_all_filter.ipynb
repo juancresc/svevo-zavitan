{
 "cells": [
  {
   "cell_type": "code",
   "execution_count": 135,
   "metadata": {},
   "outputs": [],
   "source": [
    "import pandas as pd"
   ]
  },
  {
   "cell_type": "code",
   "execution_count": 136,
   "metadata": {},
   "outputs": [],
   "source": [
    "file_lan = 'data/variant_tl_svevo_all.vcf'\n",
    "file_lan_dic = 'data/variant_td_svevo_all.vcf'"
   ]
  },
  {
   "cell_type": "code",
   "execution_count": 137,
   "metadata": {},
   "outputs": [],
   "source": [
    "vcf_cols = ['CHROM','POS','ID','REF','ALT','QUAL','FILTER','INFO','FORMAT','ALLELE']"
   ]
  },
  {
   "cell_type": "code",
   "execution_count": 138,
   "metadata": {},
   "outputs": [
    {
     "name": "stdout",
     "output_type": "stream",
     "text": [
      "40221\n"
     ]
    },
    {
     "data": {
      "text/html": [
       "<div>\n",
       "<style scoped>\n",
       "    .dataframe tbody tr th:only-of-type {\n",
       "        vertical-align: middle;\n",
       "    }\n",
       "\n",
       "    .dataframe tbody tr th {\n",
       "        vertical-align: top;\n",
       "    }\n",
       "\n",
       "    .dataframe thead th {\n",
       "        text-align: right;\n",
       "    }\n",
       "</style>\n",
       "<table border=\"1\" class=\"dataframe\">\n",
       "  <thead>\n",
       "    <tr style=\"text-align: right;\">\n",
       "      <th></th>\n",
       "      <th>CHROM</th>\n",
       "      <th>POS</th>\n",
       "      <th>ID</th>\n",
       "      <th>REF</th>\n",
       "      <th>ALT</th>\n",
       "      <th>QUAL</th>\n",
       "      <th>FILTER</th>\n",
       "      <th>INFO</th>\n",
       "      <th>FORMAT</th>\n",
       "      <th>ALLELE</th>\n",
       "      <th>LDN_DIC_new_id</th>\n",
       "      <th>LDN_DIC_what</th>\n",
       "    </tr>\n",
       "  </thead>\n",
       "  <tbody>\n",
       "    <tr>\n",
       "      <th>0</th>\n",
       "      <td>chr1A</td>\n",
       "      <td>1098670</td>\n",
       "      <td>.</td>\n",
       "      <td>T</td>\n",
       "      <td>C</td>\n",
       "      <td>225</td>\n",
       "      <td>PASS</td>\n",
       "      <td>DP=33;VDB=0.115547;SGB=-0.693079;MQSB=1;MQ0F=0...</td>\n",
       "      <td>GT:PL</td>\n",
       "      <td>1/1:255,87,0</td>\n",
       "      <td>LDN_DIC_0</td>\n",
       "      <td>LDN_DIC</td>\n",
       "    </tr>\n",
       "    <tr>\n",
       "      <th>1</th>\n",
       "      <td>chr1A</td>\n",
       "      <td>1101224</td>\n",
       "      <td>.</td>\n",
       "      <td>G</td>\n",
       "      <td>T</td>\n",
       "      <td>225</td>\n",
       "      <td>PASS</td>\n",
       "      <td>DP=37;VDB=0.432424;SGB=-0.693139;MQSB=1;MQ0F=0...</td>\n",
       "      <td>GT:PL</td>\n",
       "      <td>1/1:255,108,0</td>\n",
       "      <td>LDN_DIC_1</td>\n",
       "      <td>LDN_DIC</td>\n",
       "    </tr>\n",
       "    <tr>\n",
       "      <th>2</th>\n",
       "      <td>chr1A</td>\n",
       "      <td>1101457</td>\n",
       "      <td>.</td>\n",
       "      <td>T</td>\n",
       "      <td>C</td>\n",
       "      <td>225</td>\n",
       "      <td>PASS</td>\n",
       "      <td>DP=32;VDB=0.0583432;SGB=-0.693097;MQSB=1;MQ0F=...</td>\n",
       "      <td>GT:PL</td>\n",
       "      <td>1/1:255,90,0</td>\n",
       "      <td>LDN_DIC_2</td>\n",
       "      <td>LDN_DIC</td>\n",
       "    </tr>\n",
       "    <tr>\n",
       "      <th>3</th>\n",
       "      <td>chr1A</td>\n",
       "      <td>1101480</td>\n",
       "      <td>.</td>\n",
       "      <td>C</td>\n",
       "      <td>T</td>\n",
       "      <td>225</td>\n",
       "      <td>PASS</td>\n",
       "      <td>DP=28;VDB=0.958041;SGB=-0.693021;MQSB=1;MQ0F=0...</td>\n",
       "      <td>GT:PL</td>\n",
       "      <td>1/1:255,81,0</td>\n",
       "      <td>LDN_DIC_3</td>\n",
       "      <td>LDN_DIC</td>\n",
       "    </tr>\n",
       "  </tbody>\n",
       "</table>\n",
       "</div>"
      ],
      "text/plain": [
       "   CHROM      POS ID REF ALT  QUAL FILTER  \\\n",
       "0  chr1A  1098670  .   T   C   225   PASS   \n",
       "1  chr1A  1101224  .   G   T   225   PASS   \n",
       "2  chr1A  1101457  .   T   C   225   PASS   \n",
       "3  chr1A  1101480  .   C   T   225   PASS   \n",
       "\n",
       "                                                INFO FORMAT         ALLELE  \\\n",
       "0  DP=33;VDB=0.115547;SGB=-0.693079;MQSB=1;MQ0F=0...  GT:PL   1/1:255,87,0   \n",
       "1  DP=37;VDB=0.432424;SGB=-0.693139;MQSB=1;MQ0F=0...  GT:PL  1/1:255,108,0   \n",
       "2  DP=32;VDB=0.0583432;SGB=-0.693097;MQSB=1;MQ0F=...  GT:PL   1/1:255,90,0   \n",
       "3  DP=28;VDB=0.958041;SGB=-0.693021;MQSB=1;MQ0F=0...  GT:PL   1/1:255,81,0   \n",
       "\n",
       "  LDN_DIC_new_id LDN_DIC_what  \n",
       "0      LDN_DIC_0      LDN_DIC  \n",
       "1      LDN_DIC_1      LDN_DIC  \n",
       "2      LDN_DIC_2      LDN_DIC  \n",
       "3      LDN_DIC_3      LDN_DIC  "
      ]
     },
     "execution_count": 138,
     "metadata": {},
     "output_type": "execute_result"
    }
   ],
   "source": [
    "df_lan_dic = pd.read_csv(file_lan_dic, sep='\\t', comment='#', header=None)\n",
    "df_lan_dic.columns = vcf_cols\n",
    "df_lan_dic['LDN_DIC_new_id'] = 'LDN_DIC_' + df_lan_dic.index.astype(str)\n",
    "df_lan_dic['LDN_DIC_what'] = 'LDN_DIC'\n",
    "print(len(df_lan_dic.index))\n",
    "df_lan_dic.head(4)"
   ]
  },
  {
   "cell_type": "code",
   "execution_count": 139,
   "metadata": {},
   "outputs": [
    {
     "name": "stdout",
     "output_type": "stream",
     "text": [
      "39157\n"
     ]
    },
    {
     "data": {
      "text/html": [
       "<div>\n",
       "<style scoped>\n",
       "    .dataframe tbody tr th:only-of-type {\n",
       "        vertical-align: middle;\n",
       "    }\n",
       "\n",
       "    .dataframe tbody tr th {\n",
       "        vertical-align: top;\n",
       "    }\n",
       "\n",
       "    .dataframe thead th {\n",
       "        text-align: right;\n",
       "    }\n",
       "</style>\n",
       "<table border=\"1\" class=\"dataframe\">\n",
       "  <thead>\n",
       "    <tr style=\"text-align: right;\">\n",
       "      <th></th>\n",
       "      <th>CHROM</th>\n",
       "      <th>POS</th>\n",
       "      <th>ID</th>\n",
       "      <th>REF</th>\n",
       "      <th>ALT</th>\n",
       "      <th>QUAL</th>\n",
       "      <th>FILTER</th>\n",
       "      <th>INFO</th>\n",
       "      <th>FORMAT</th>\n",
       "      <th>ALLELE</th>\n",
       "      <th>LDN_new_id</th>\n",
       "      <th>LDN_what</th>\n",
       "    </tr>\n",
       "  </thead>\n",
       "  <tbody>\n",
       "    <tr>\n",
       "      <th>0</th>\n",
       "      <td>chr1A</td>\n",
       "      <td>1098670</td>\n",
       "      <td>.</td>\n",
       "      <td>T</td>\n",
       "      <td>C</td>\n",
       "      <td>225</td>\n",
       "      <td>PASS</td>\n",
       "      <td>DP=28;VDB=0.98078;SGB=-0.693021;MQSB=1;MQ0F=0;...</td>\n",
       "      <td>GT:PL</td>\n",
       "      <td>1/1:255,81,0</td>\n",
       "      <td>LDN_0</td>\n",
       "      <td>LDN</td>\n",
       "    </tr>\n",
       "    <tr>\n",
       "      <th>1</th>\n",
       "      <td>chr1A</td>\n",
       "      <td>1101224</td>\n",
       "      <td>.</td>\n",
       "      <td>G</td>\n",
       "      <td>T</td>\n",
       "      <td>225</td>\n",
       "      <td>PASS</td>\n",
       "      <td>DP=27;VDB=0.465551;SGB=-0.693021;MQSB=0.927743...</td>\n",
       "      <td>GT:PL</td>\n",
       "      <td>1/1:255,81,0</td>\n",
       "      <td>LDN_1</td>\n",
       "      <td>LDN</td>\n",
       "    </tr>\n",
       "    <tr>\n",
       "      <th>2</th>\n",
       "      <td>chr1A</td>\n",
       "      <td>1101457</td>\n",
       "      <td>.</td>\n",
       "      <td>T</td>\n",
       "      <td>C</td>\n",
       "      <td>225</td>\n",
       "      <td>PASS</td>\n",
       "      <td>DP=21;VDB=0.00957019;SGB=-0.692067;MQSB=1;MQ0F...</td>\n",
       "      <td>GT:PL</td>\n",
       "      <td>1/1:255,60,0</td>\n",
       "      <td>LDN_2</td>\n",
       "      <td>LDN</td>\n",
       "    </tr>\n",
       "    <tr>\n",
       "      <th>3</th>\n",
       "      <td>chr1A</td>\n",
       "      <td>1101480</td>\n",
       "      <td>.</td>\n",
       "      <td>C</td>\n",
       "      <td>T</td>\n",
       "      <td>225</td>\n",
       "      <td>PASS</td>\n",
       "      <td>DP=29;VDB=0.9159;SGB=-0.692914;MQSB=1;MQ0F=0;A...</td>\n",
       "      <td>GT:PL</td>\n",
       "      <td>1/1:255,75,0</td>\n",
       "      <td>LDN_3</td>\n",
       "      <td>LDN</td>\n",
       "    </tr>\n",
       "  </tbody>\n",
       "</table>\n",
       "</div>"
      ],
      "text/plain": [
       "   CHROM      POS ID REF ALT  QUAL FILTER  \\\n",
       "0  chr1A  1098670  .   T   C   225   PASS   \n",
       "1  chr1A  1101224  .   G   T   225   PASS   \n",
       "2  chr1A  1101457  .   T   C   225   PASS   \n",
       "3  chr1A  1101480  .   C   T   225   PASS   \n",
       "\n",
       "                                                INFO FORMAT        ALLELE  \\\n",
       "0  DP=28;VDB=0.98078;SGB=-0.693021;MQSB=1;MQ0F=0;...  GT:PL  1/1:255,81,0   \n",
       "1  DP=27;VDB=0.465551;SGB=-0.693021;MQSB=0.927743...  GT:PL  1/1:255,81,0   \n",
       "2  DP=21;VDB=0.00957019;SGB=-0.692067;MQSB=1;MQ0F...  GT:PL  1/1:255,60,0   \n",
       "3  DP=29;VDB=0.9159;SGB=-0.692914;MQSB=1;MQ0F=0;A...  GT:PL  1/1:255,75,0   \n",
       "\n",
       "  LDN_new_id LDN_what  \n",
       "0      LDN_0      LDN  \n",
       "1      LDN_1      LDN  \n",
       "2      LDN_2      LDN  \n",
       "3      LDN_3      LDN  "
      ]
     },
     "execution_count": 139,
     "metadata": {},
     "output_type": "execute_result"
    }
   ],
   "source": [
    "df_lan = pd.read_csv(file_lan, sep='\\t', comment='#', header=None)\n",
    "df_lan.columns = vcf_cols\n",
    "df_lan['LDN_new_id'] = 'LDN_' + df_lan.index.astype(str)\n",
    "df_lan['LDN_what'] = 'LDN'\n",
    "print(len(df_lan.index))\n",
    "df_lan.head(4)"
   ]
  },
  {
   "cell_type": "code",
   "execution_count": null,
   "metadata": {},
   "outputs": [],
   "source": []
  },
  {
   "cell_type": "code",
   "execution_count": 140,
   "metadata": {},
   "outputs": [
    {
     "name": "stdout",
     "output_type": "stream",
     "text": [
      "24978\n"
     ]
    }
   ],
   "source": [
    "columns_ld = ['CHROM','POS','ALT','LDN_DIC_new_id']\n",
    "columns_l = ['CHROM','POS','ALT','LDN_new_id']\n",
    "df_merged = pd.merge(df_lan[columns_l], df_lan_dic[columns_ld], on=['CHROM','POS','ALT'])\n",
    "print(len(df_merged.index))"
   ]
  },
  {
   "cell_type": "code",
   "execution_count": 141,
   "metadata": {},
   "outputs": [
    {
     "data": {
      "text/html": [
       "<div>\n",
       "<style scoped>\n",
       "    .dataframe tbody tr th:only-of-type {\n",
       "        vertical-align: middle;\n",
       "    }\n",
       "\n",
       "    .dataframe tbody tr th {\n",
       "        vertical-align: top;\n",
       "    }\n",
       "\n",
       "    .dataframe thead th {\n",
       "        text-align: right;\n",
       "    }\n",
       "</style>\n",
       "<table border=\"1\" class=\"dataframe\">\n",
       "  <thead>\n",
       "    <tr style=\"text-align: right;\">\n",
       "      <th></th>\n",
       "      <th>CHROM</th>\n",
       "      <th>POS</th>\n",
       "      <th>ALT</th>\n",
       "      <th>LDN_new_id</th>\n",
       "      <th>LDN_DIC_new_id</th>\n",
       "    </tr>\n",
       "  </thead>\n",
       "  <tbody>\n",
       "    <tr>\n",
       "      <th>0</th>\n",
       "      <td>chr1A</td>\n",
       "      <td>1098670</td>\n",
       "      <td>C</td>\n",
       "      <td>LDN_0</td>\n",
       "      <td>LDN_DIC_0</td>\n",
       "    </tr>\n",
       "    <tr>\n",
       "      <th>1</th>\n",
       "      <td>chr1A</td>\n",
       "      <td>1101224</td>\n",
       "      <td>T</td>\n",
       "      <td>LDN_1</td>\n",
       "      <td>LDN_DIC_1</td>\n",
       "    </tr>\n",
       "    <tr>\n",
       "      <th>2</th>\n",
       "      <td>chr1A</td>\n",
       "      <td>1101457</td>\n",
       "      <td>C</td>\n",
       "      <td>LDN_2</td>\n",
       "      <td>LDN_DIC_2</td>\n",
       "    </tr>\n",
       "    <tr>\n",
       "      <th>3</th>\n",
       "      <td>chr1A</td>\n",
       "      <td>1101480</td>\n",
       "      <td>T</td>\n",
       "      <td>LDN_3</td>\n",
       "      <td>LDN_DIC_3</td>\n",
       "    </tr>\n",
       "  </tbody>\n",
       "</table>\n",
       "</div>"
      ],
      "text/plain": [
       "   CHROM      POS ALT LDN_new_id LDN_DIC_new_id\n",
       "0  chr1A  1098670   C      LDN_0      LDN_DIC_0\n",
       "1  chr1A  1101224   T      LDN_1      LDN_DIC_1\n",
       "2  chr1A  1101457   C      LDN_2      LDN_DIC_2\n",
       "3  chr1A  1101480   T      LDN_3      LDN_DIC_3"
      ]
     },
     "execution_count": 141,
     "metadata": {},
     "output_type": "execute_result"
    }
   ],
   "source": [
    "df_merged.head(4)"
   ]
  },
  {
   "cell_type": "code",
   "execution_count": 142,
   "metadata": {},
   "outputs": [
    {
     "name": "stdout",
     "output_type": "stream",
     "text": [
      "14179\n",
      "15243\n"
     ]
    }
   ],
   "source": [
    "df_lan_diff = df_lan[~df_lan['LDN_new_id'].isin(df_merged['LDN_new_id'])]\n",
    "df_lan_dic_diff = df_lan_dic[~df_lan_dic['LDN_DIC_new_id'].isin(df_merged['LDN_DIC_new_id'])]\n",
    "print(len(df_lan_diff.index))\n",
    "print(len(df_lan_dic_diff.index))"
   ]
  },
  {
   "cell_type": "code",
   "execution_count": 143,
   "metadata": {},
   "outputs": [
    {
     "data": {
      "text/html": [
       "<div>\n",
       "<style scoped>\n",
       "    .dataframe tbody tr th:only-of-type {\n",
       "        vertical-align: middle;\n",
       "    }\n",
       "\n",
       "    .dataframe tbody tr th {\n",
       "        vertical-align: top;\n",
       "    }\n",
       "\n",
       "    .dataframe thead th {\n",
       "        text-align: right;\n",
       "    }\n",
       "</style>\n",
       "<table border=\"1\" class=\"dataframe\">\n",
       "  <thead>\n",
       "    <tr style=\"text-align: right;\">\n",
       "      <th></th>\n",
       "      <th>CHROM</th>\n",
       "      <th>POS</th>\n",
       "      <th>ID</th>\n",
       "      <th>REF</th>\n",
       "      <th>ALT</th>\n",
       "      <th>QUAL</th>\n",
       "      <th>FILTER</th>\n",
       "      <th>INFO</th>\n",
       "      <th>FORMAT</th>\n",
       "      <th>ALLELE</th>\n",
       "      <th>LDN_DIC_new_id</th>\n",
       "      <th>LDN_DIC_what</th>\n",
       "    </tr>\n",
       "  </thead>\n",
       "  <tbody>\n",
       "    <tr>\n",
       "      <th>28</th>\n",
       "      <td>chr1A</td>\n",
       "      <td>1176124</td>\n",
       "      <td>.</td>\n",
       "      <td>A</td>\n",
       "      <td>G</td>\n",
       "      <td>184</td>\n",
       "      <td>PASS</td>\n",
       "      <td>DP=12;VDB=0.474122;SGB=-0.670168;MQSB=1;MQ0F=0...</td>\n",
       "      <td>GT:PL</td>\n",
       "      <td>1/1:214,30,0</td>\n",
       "      <td>LDN_DIC_28</td>\n",
       "      <td>LDN_DIC</td>\n",
       "    </tr>\n",
       "    <tr>\n",
       "      <th>42</th>\n",
       "      <td>chr1A</td>\n",
       "      <td>5507126</td>\n",
       "      <td>.</td>\n",
       "      <td>G</td>\n",
       "      <td>T</td>\n",
       "      <td>96</td>\n",
       "      <td>PASS</td>\n",
       "      <td>DP=4;VDB=0.47843;SGB=-0.556411;MQSB=1;MQ0F=0;A...</td>\n",
       "      <td>GT:PL</td>\n",
       "      <td>1/1:126,12,0</td>\n",
       "      <td>LDN_DIC_42</td>\n",
       "      <td>LDN_DIC</td>\n",
       "    </tr>\n",
       "  </tbody>\n",
       "</table>\n",
       "</div>"
      ],
      "text/plain": [
       "    CHROM      POS ID REF ALT  QUAL FILTER  \\\n",
       "28  chr1A  1176124  .   A   G   184   PASS   \n",
       "42  chr1A  5507126  .   G   T    96   PASS   \n",
       "\n",
       "                                                 INFO FORMAT        ALLELE  \\\n",
       "28  DP=12;VDB=0.474122;SGB=-0.670168;MQSB=1;MQ0F=0...  GT:PL  1/1:214,30,0   \n",
       "42  DP=4;VDB=0.47843;SGB=-0.556411;MQSB=1;MQ0F=0;A...  GT:PL  1/1:126,12,0   \n",
       "\n",
       "   LDN_DIC_new_id LDN_DIC_what  \n",
       "28     LDN_DIC_28      LDN_DIC  \n",
       "42     LDN_DIC_42      LDN_DIC  "
      ]
     },
     "execution_count": 143,
     "metadata": {},
     "output_type": "execute_result"
    }
   ],
   "source": [
    "df_lan_dic_diff.head(2)"
   ]
  },
  {
   "cell_type": "code",
   "execution_count": 144,
   "metadata": {},
   "outputs": [
    {
     "data": {
      "text/html": [
       "<div>\n",
       "<style scoped>\n",
       "    .dataframe tbody tr th:only-of-type {\n",
       "        vertical-align: middle;\n",
       "    }\n",
       "\n",
       "    .dataframe tbody tr th {\n",
       "        vertical-align: top;\n",
       "    }\n",
       "\n",
       "    .dataframe thead th {\n",
       "        text-align: right;\n",
       "    }\n",
       "</style>\n",
       "<table border=\"1\" class=\"dataframe\">\n",
       "  <thead>\n",
       "    <tr style=\"text-align: right;\">\n",
       "      <th></th>\n",
       "      <th>CHROM</th>\n",
       "      <th>POS</th>\n",
       "      <th>ID</th>\n",
       "      <th>REF</th>\n",
       "      <th>ALT</th>\n",
       "      <th>QUAL</th>\n",
       "      <th>FILTER</th>\n",
       "      <th>INFO</th>\n",
       "      <th>FORMAT</th>\n",
       "      <th>ALLELE</th>\n",
       "      <th>LDN_new_id</th>\n",
       "      <th>what</th>\n",
       "    </tr>\n",
       "  </thead>\n",
       "  <tbody>\n",
       "    <tr>\n",
       "      <th>38</th>\n",
       "      <td>chr1A</td>\n",
       "      <td>3991594</td>\n",
       "      <td>.</td>\n",
       "      <td>TA</td>\n",
       "      <td>TAA</td>\n",
       "      <td>111</td>\n",
       "      <td>PASS</td>\n",
       "      <td>INDEL;IDV=4;IMF=0.1;DP=4;VDB=0.00701511;SGB=-0...</td>\n",
       "      <td>GT:PL</td>\n",
       "      <td>1/1:141,12,0</td>\n",
       "      <td>LDN_38</td>\n",
       "      <td>LDN</td>\n",
       "    </tr>\n",
       "    <tr>\n",
       "      <th>44</th>\n",
       "      <td>chr1A</td>\n",
       "      <td>9097353</td>\n",
       "      <td>.</td>\n",
       "      <td>TC</td>\n",
       "      <td>T</td>\n",
       "      <td>79</td>\n",
       "      <td>PASS</td>\n",
       "      <td>INDEL;IDV=4;IMF=0.8;DP=5;VDB=0.114666;SGB=-0.5...</td>\n",
       "      <td>GT:PL</td>\n",
       "      <td>1/1:106,6,0</td>\n",
       "      <td>LDN_44</td>\n",
       "      <td>LDN</td>\n",
       "    </tr>\n",
       "  </tbody>\n",
       "</table>\n",
       "</div>"
      ],
      "text/plain": [
       "    CHROM      POS ID REF  ALT  QUAL FILTER  \\\n",
       "38  chr1A  3991594  .  TA  TAA   111   PASS   \n",
       "44  chr1A  9097353  .  TC    T    79   PASS   \n",
       "\n",
       "                                                 INFO FORMAT        ALLELE  \\\n",
       "38  INDEL;IDV=4;IMF=0.1;DP=4;VDB=0.00701511;SGB=-0...  GT:PL  1/1:141,12,0   \n",
       "44  INDEL;IDV=4;IMF=0.8;DP=5;VDB=0.114666;SGB=-0.5...  GT:PL   1/1:106,6,0   \n",
       "\n",
       "   LDN_new_id what  \n",
       "38     LDN_38  LDN  \n",
       "44     LDN_44  LDN  "
      ]
     },
     "execution_count": 144,
     "metadata": {},
     "output_type": "execute_result"
    }
   ],
   "source": [
    "df_lan_diff = df_lan_diff.rename(columns={'LDN_what':'what'})\n",
    "df_lan_diff.head(2)"
   ]
  },
  {
   "cell_type": "code",
   "execution_count": 145,
   "metadata": {},
   "outputs": [
    {
     "data": {
      "text/html": [
       "<div>\n",
       "<style scoped>\n",
       "    .dataframe tbody tr th:only-of-type {\n",
       "        vertical-align: middle;\n",
       "    }\n",
       "\n",
       "    .dataframe tbody tr th {\n",
       "        vertical-align: top;\n",
       "    }\n",
       "\n",
       "    .dataframe thead th {\n",
       "        text-align: right;\n",
       "    }\n",
       "</style>\n",
       "<table border=\"1\" class=\"dataframe\">\n",
       "  <thead>\n",
       "    <tr style=\"text-align: right;\">\n",
       "      <th></th>\n",
       "      <th>CHROM</th>\n",
       "      <th>POS</th>\n",
       "      <th>ID</th>\n",
       "      <th>REF</th>\n",
       "      <th>ALT</th>\n",
       "      <th>QUAL</th>\n",
       "      <th>FILTER</th>\n",
       "      <th>INFO</th>\n",
       "      <th>FORMAT</th>\n",
       "      <th>ALLELE</th>\n",
       "      <th>LDN_DIC_new_id</th>\n",
       "      <th>what</th>\n",
       "    </tr>\n",
       "  </thead>\n",
       "  <tbody>\n",
       "    <tr>\n",
       "      <th>28</th>\n",
       "      <td>chr1A</td>\n",
       "      <td>1176124</td>\n",
       "      <td>.</td>\n",
       "      <td>A</td>\n",
       "      <td>G</td>\n",
       "      <td>184</td>\n",
       "      <td>PASS</td>\n",
       "      <td>DP=12;VDB=0.474122;SGB=-0.670168;MQSB=1;MQ0F=0...</td>\n",
       "      <td>GT:PL</td>\n",
       "      <td>1/1:214,30,0</td>\n",
       "      <td>LDN_DIC_28</td>\n",
       "      <td>LDN_DIC</td>\n",
       "    </tr>\n",
       "    <tr>\n",
       "      <th>42</th>\n",
       "      <td>chr1A</td>\n",
       "      <td>5507126</td>\n",
       "      <td>.</td>\n",
       "      <td>G</td>\n",
       "      <td>T</td>\n",
       "      <td>96</td>\n",
       "      <td>PASS</td>\n",
       "      <td>DP=4;VDB=0.47843;SGB=-0.556411;MQSB=1;MQ0F=0;A...</td>\n",
       "      <td>GT:PL</td>\n",
       "      <td>1/1:126,12,0</td>\n",
       "      <td>LDN_DIC_42</td>\n",
       "      <td>LDN_DIC</td>\n",
       "    </tr>\n",
       "  </tbody>\n",
       "</table>\n",
       "</div>"
      ],
      "text/plain": [
       "    CHROM      POS ID REF ALT  QUAL FILTER  \\\n",
       "28  chr1A  1176124  .   A   G   184   PASS   \n",
       "42  chr1A  5507126  .   G   T    96   PASS   \n",
       "\n",
       "                                                 INFO FORMAT        ALLELE  \\\n",
       "28  DP=12;VDB=0.474122;SGB=-0.670168;MQSB=1;MQ0F=0...  GT:PL  1/1:214,30,0   \n",
       "42  DP=4;VDB=0.47843;SGB=-0.556411;MQSB=1;MQ0F=0;A...  GT:PL  1/1:126,12,0   \n",
       "\n",
       "   LDN_DIC_new_id     what  \n",
       "28     LDN_DIC_28  LDN_DIC  \n",
       "42     LDN_DIC_42  LDN_DIC  "
      ]
     },
     "execution_count": 145,
     "metadata": {},
     "output_type": "execute_result"
    }
   ],
   "source": [
    "df_lan_dic_diff = df_lan_dic_diff.rename(columns={'LDN_DIC_what':'what'})\n",
    "df_lan_dic_diff.head(2)"
   ]
  },
  {
   "cell_type": "code",
   "execution_count": 151,
   "metadata": {},
   "outputs": [],
   "source": [
    "vcf_cols.append('what')\n",
    "df_lan_diff = df_lan_diff[vcf_cols]\n",
    "df_lan_dic_diff = df_lan_dic_diff[vcf_cols]"
   ]
  },
  {
   "cell_type": "code",
   "execution_count": null,
   "metadata": {},
   "outputs": [],
   "source": []
  },
  {
   "cell_type": "code",
   "execution_count": 152,
   "metadata": {},
   "outputs": [
    {
     "name": "stdout",
     "output_type": "stream",
     "text": [
      "29422\n"
     ]
    }
   ],
   "source": [
    "df_res = pd.concat([df_lan_diff, df_lan_dic_diff],sort=False)\n",
    "print(len(df_res.index))"
   ]
  },
  {
   "cell_type": "code",
   "execution_count": 153,
   "metadata": {},
   "outputs": [
    {
     "data": {
      "text/html": [
       "<div>\n",
       "<style scoped>\n",
       "    .dataframe tbody tr th:only-of-type {\n",
       "        vertical-align: middle;\n",
       "    }\n",
       "\n",
       "    .dataframe tbody tr th {\n",
       "        vertical-align: top;\n",
       "    }\n",
       "\n",
       "    .dataframe thead th {\n",
       "        text-align: right;\n",
       "    }\n",
       "</style>\n",
       "<table border=\"1\" class=\"dataframe\">\n",
       "  <thead>\n",
       "    <tr style=\"text-align: right;\">\n",
       "      <th></th>\n",
       "      <th>CHROM</th>\n",
       "      <th>POS</th>\n",
       "      <th>ID</th>\n",
       "      <th>REF</th>\n",
       "      <th>ALT</th>\n",
       "      <th>QUAL</th>\n",
       "      <th>FILTER</th>\n",
       "      <th>INFO</th>\n",
       "      <th>FORMAT</th>\n",
       "      <th>ALLELE</th>\n",
       "      <th>what</th>\n",
       "    </tr>\n",
       "  </thead>\n",
       "  <tbody>\n",
       "    <tr>\n",
       "      <th>38</th>\n",
       "      <td>chr1A</td>\n",
       "      <td>3991594</td>\n",
       "      <td>.</td>\n",
       "      <td>TA</td>\n",
       "      <td>TAA</td>\n",
       "      <td>111</td>\n",
       "      <td>PASS</td>\n",
       "      <td>INDEL;IDV=4;IMF=0.1;DP=4;VDB=0.00701511;SGB=-0...</td>\n",
       "      <td>GT:PL</td>\n",
       "      <td>1/1:141,12,0</td>\n",
       "      <td>LDN</td>\n",
       "    </tr>\n",
       "    <tr>\n",
       "      <th>44</th>\n",
       "      <td>chr1A</td>\n",
       "      <td>9097353</td>\n",
       "      <td>.</td>\n",
       "      <td>TC</td>\n",
       "      <td>T</td>\n",
       "      <td>79</td>\n",
       "      <td>PASS</td>\n",
       "      <td>INDEL;IDV=4;IMF=0.8;DP=5;VDB=0.114666;SGB=-0.5...</td>\n",
       "      <td>GT:PL</td>\n",
       "      <td>1/1:106,6,0</td>\n",
       "      <td>LDN</td>\n",
       "    </tr>\n",
       "  </tbody>\n",
       "</table>\n",
       "</div>"
      ],
      "text/plain": [
       "    CHROM      POS ID REF  ALT  QUAL FILTER  \\\n",
       "38  chr1A  3991594  .  TA  TAA   111   PASS   \n",
       "44  chr1A  9097353  .  TC    T    79   PASS   \n",
       "\n",
       "                                                 INFO FORMAT        ALLELE  \\\n",
       "38  INDEL;IDV=4;IMF=0.1;DP=4;VDB=0.00701511;SGB=-0...  GT:PL  1/1:141,12,0   \n",
       "44  INDEL;IDV=4;IMF=0.8;DP=5;VDB=0.114666;SGB=-0.5...  GT:PL   1/1:106,6,0   \n",
       "\n",
       "   what  \n",
       "38  LDN  \n",
       "44  LDN  "
      ]
     },
     "execution_count": 153,
     "metadata": {},
     "output_type": "execute_result"
    }
   ],
   "source": [
    "df_res.head(2)"
   ]
  },
  {
   "cell_type": "code",
   "execution_count": 155,
   "metadata": {},
   "outputs": [
    {
     "data": {
      "text/plain": [
       "CHROM  what   \n",
       "chr1A  LDN         801\n",
       "       LDN_DIC     974\n",
       "chr1B  LDN        1572\n",
       "       LDN_DIC     644\n",
       "chr2A  LDN         626\n",
       "       LDN_DIC     586\n",
       "chr2B  LDN        1079\n",
       "       LDN_DIC    1122\n",
       "chr3A  LDN         894\n",
       "       LDN_DIC    5257\n",
       "chr3B  LDN         844\n",
       "       LDN_DIC     803\n",
       "chr4A  LDN         911\n",
       "       LDN_DIC    1429\n",
       "chr4B  LDN         858\n",
       "       LDN_DIC     573\n",
       "chr5A  LDN         572\n",
       "       LDN_DIC     505\n",
       "chr5B  LDN         719\n",
       "       LDN_DIC     443\n",
       "chr6A  LDN        1295\n",
       "       LDN_DIC     656\n",
       "chr6B  LDN        1820\n",
       "       LDN_DIC     420\n",
       "chr7A  LDN         783\n",
       "       LDN_DIC     675\n",
       "chr7B  LDN         925\n",
       "       LDN_DIC     752\n",
       "chrUn  LDN         480\n",
       "       LDN_DIC     404\n",
       "dtype: int64"
      ]
     },
     "execution_count": 155,
     "metadata": {},
     "output_type": "execute_result"
    }
   ],
   "source": [
    "df_res.groupby(['CHROM','what']).size()"
   ]
  },
  {
   "cell_type": "code",
   "execution_count": 158,
   "metadata": {},
   "outputs": [
    {
     "data": {
      "text/plain": [
       "what\n",
       "LDN        14179\n",
       "LDN_DIC    15243\n",
       "dtype: int64"
      ]
     },
     "execution_count": 158,
     "metadata": {},
     "output_type": "execute_result"
    }
   ],
   "source": [
    "df_res.groupby(['what']).size()"
   ]
  },
  {
   "cell_type": "code",
   "execution_count": 157,
   "metadata": {},
   "outputs": [],
   "source": [
    "df_res.to_csv('data/diff.csv', index=None, sep='\\t')"
   ]
  },
  {
   "cell_type": "code",
   "execution_count": null,
   "metadata": {},
   "outputs": [],
   "source": []
  },
  {
   "cell_type": "code",
   "execution_count": null,
   "metadata": {},
   "outputs": [],
   "source": []
  },
  {
   "cell_type": "code",
   "execution_count": null,
   "metadata": {},
   "outputs": [],
   "source": []
  },
  {
   "cell_type": "code",
   "execution_count": null,
   "metadata": {},
   "outputs": [],
   "source": []
  }
 ],
 "metadata": {
  "kernelspec": {
   "display_name": "Python 3",
   "language": "python",
   "name": "python3"
  },
  "language_info": {
   "codemirror_mode": {
    "name": "ipython",
    "version": 3
   },
   "file_extension": ".py",
   "mimetype": "text/x-python",
   "name": "python",
   "nbconvert_exporter": "python",
   "pygments_lexer": "ipython3",
   "version": "3.6.5"
  }
 },
 "nbformat": 4,
 "nbformat_minor": 2
}
