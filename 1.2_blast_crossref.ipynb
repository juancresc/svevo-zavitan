{
 "cells": [
  {
   "cell_type": "code",
   "execution_count": 39,
   "metadata": {},
   "outputs": [
    {
     "data": {
      "text/plain": [
       "'\\nBlasts genes from svevo and zavitan and finds putative orthologues\\nOutputs first, a table with genes corresponding to each reference\\nAdds interesting information to output, position in genome according to annotation,\\nposition of blast against genome, GO:terms\\n'"
      ]
     },
     "execution_count": 39,
     "metadata": {},
     "output_type": "execute_result"
    }
   ],
   "source": [
    "\"\"\"\n",
    "Blasts genes from svevo and zavitan and finds putative orthologues\n",
    "Outputs first, a table with genes corresponding to each reference\n",
    "Adds interesting information to output, position in genome according to annotation,\n",
    "position of blast against genome, GO:terms\n",
    "\"\"\"\n",
    "#blastn -perc_identity 85 -subject disk/counts/svevo.counts.fa -query disk/counts/zav_v2.counts.fa -outfmt \"6 qseqid sseqid pident mismatch gapopen qstart qend sstart send evalue length qlen slen\"  -evalue 10e-10 > disk/counts/blast_zv_sv.csv\n",
    "#blastn -perc_identity 85 -query disk/counts/svevo.counts.fa -subject disk/counts/zav_v2.counts.fa -outfmt \"6 qseqid sseqid pident mismatch gapopen qstart qend sstart send evalue length qlen slen\"  -evalue 10e-10 > disk/counts/blast_sv_zv.csv\n",
    "\n"
   ]
  },
  {
   "cell_type": "code",
   "execution_count": 40,
   "metadata": {},
   "outputs": [],
   "source": [
    "import pandas as pd"
   ]
  },
  {
   "cell_type": "code",
   "execution_count": 41,
   "metadata": {},
   "outputs": [],
   "source": [
    "file_zavitan = 'disk/counts/zavitan_v2.genes.csv'\n",
    "file_svevo = 'disk/counts/svevo.genes.csv'\n",
    "file_blast_sv_zv = 'disk/counts/blast_sv_zv.csv' #we'll use this layout\n",
    "file_blast_zv_sv = 'disk/counts/blast_zv_sv.csv' #we'll use this layout\n",
    "\n",
    "df_zavitan_all = pd.read_csv(file_zavitan, sep=',', )\n",
    "df_svevo_all = pd.read_csv(file_svevo, sep=',', )\n",
    "\n",
    "df_blast_sv_zv = pd.read_csv(file_blast_sv_zv, sep='\\t', header=None)\n",
    "df_blast_sv_zv.columns = ['svevo','zavitan','pident','mismatch','gapopen','qstart','qend','sstart','send','evalue','length','qlen','slen']\n",
    "\n",
    "\n",
    "df_blast_zv_sv = pd.read_csv(file_blast_zv_sv, sep='\\t', header=None)\n",
    "df_blast_zv_sv.columns = ['zavitan','svevo','pident','mismatch','gapopen','qstart','qend','sstart','send','evalue','length','qlen','slen']\n"
   ]
  },
  {
   "cell_type": "code",
   "execution_count": null,
   "metadata": {},
   "outputs": [],
   "source": []
  },
  {
   "cell_type": "code",
   "execution_count": 42,
   "metadata": {},
   "outputs": [
    {
     "name": "stdout",
     "output_type": "stream",
     "text": [
      "blast: 294\n"
     ]
    },
    {
     "data": {
      "text/html": [
       "<div>\n",
       "<style scoped>\n",
       "    .dataframe tbody tr th:only-of-type {\n",
       "        vertical-align: middle;\n",
       "    }\n",
       "\n",
       "    .dataframe tbody tr th {\n",
       "        vertical-align: top;\n",
       "    }\n",
       "\n",
       "    .dataframe thead th {\n",
       "        text-align: right;\n",
       "    }\n",
       "</style>\n",
       "<table border=\"1\" class=\"dataframe\">\n",
       "  <thead>\n",
       "    <tr style=\"text-align: right;\">\n",
       "      <th></th>\n",
       "      <th>evalue</th>\n",
       "      <th>gapopen</th>\n",
       "      <th>length</th>\n",
       "      <th>mismatch</th>\n",
       "      <th>pident</th>\n",
       "      <th>qend</th>\n",
       "      <th>qlen</th>\n",
       "      <th>qstart</th>\n",
       "      <th>send</th>\n",
       "      <th>slen</th>\n",
       "      <th>sstart</th>\n",
       "      <th>svevo</th>\n",
       "      <th>zavitan</th>\n",
       "    </tr>\n",
       "  </thead>\n",
       "  <tbody>\n",
       "    <tr>\n",
       "      <th>459</th>\n",
       "      <td>0.0</td>\n",
       "      <td>2</td>\n",
       "      <td>1919</td>\n",
       "      <td>0</td>\n",
       "      <td>99.896</td>\n",
       "      <td>1919</td>\n",
       "      <td>1919</td>\n",
       "      <td>1</td>\n",
       "      <td>1917</td>\n",
       "      <td>1917</td>\n",
       "      <td>1</td>\n",
       "      <td>TRITD3Av1G036830</td>\n",
       "      <td>TRIDC3Av2G034510</td>\n",
       "    </tr>\n",
       "    <tr>\n",
       "      <th>461</th>\n",
       "      <td>0.0</td>\n",
       "      <td>1</td>\n",
       "      <td>2980</td>\n",
       "      <td>7</td>\n",
       "      <td>99.732</td>\n",
       "      <td>2979</td>\n",
       "      <td>2979</td>\n",
       "      <td>1</td>\n",
       "      <td>2980</td>\n",
       "      <td>2980</td>\n",
       "      <td>1</td>\n",
       "      <td>TRITD3Av1G036880</td>\n",
       "      <td>TRIDC3Av2G034560</td>\n",
       "    </tr>\n",
       "    <tr>\n",
       "      <th>465</th>\n",
       "      <td>0.0</td>\n",
       "      <td>1</td>\n",
       "      <td>1579</td>\n",
       "      <td>2</td>\n",
       "      <td>99.810</td>\n",
       "      <td>1578</td>\n",
       "      <td>1578</td>\n",
       "      <td>1</td>\n",
       "      <td>1579</td>\n",
       "      <td>1579</td>\n",
       "      <td>1</td>\n",
       "      <td>TRITD3Av1G036930</td>\n",
       "      <td>TRIDC3Av2G034640</td>\n",
       "    </tr>\n",
       "    <tr>\n",
       "      <th>468</th>\n",
       "      <td>0.0</td>\n",
       "      <td>1</td>\n",
       "      <td>21421</td>\n",
       "      <td>1</td>\n",
       "      <td>99.991</td>\n",
       "      <td>21420</td>\n",
       "      <td>21420</td>\n",
       "      <td>1</td>\n",
       "      <td>21421</td>\n",
       "      <td>21421</td>\n",
       "      <td>1</td>\n",
       "      <td>TRITD3Av1G036950</td>\n",
       "      <td>TRIDC3Av2G034660</td>\n",
       "    </tr>\n",
       "  </tbody>\n",
       "</table>\n",
       "</div>"
      ],
      "text/plain": [
       "     evalue  gapopen  length  mismatch  pident   qend   qlen  qstart   send  \\\n",
       "459     0.0        2    1919         0  99.896   1919   1919       1   1917   \n",
       "461     0.0        1    2980         7  99.732   2979   2979       1   2980   \n",
       "465     0.0        1    1579         2  99.810   1578   1578       1   1579   \n",
       "468     0.0        1   21421         1  99.991  21420  21420       1  21421   \n",
       "\n",
       "      slen  sstart             svevo           zavitan  \n",
       "459   1917       1  TRITD3Av1G036830  TRIDC3Av2G034510  \n",
       "461   2980       1  TRITD3Av1G036880  TRIDC3Av2G034560  \n",
       "465   1579       1  TRITD3Av1G036930  TRIDC3Av2G034640  \n",
       "468  21421       1  TRITD3Av1G036950  TRIDC3Av2G034660  "
      ]
     },
     "execution_count": 42,
     "metadata": {},
     "output_type": "execute_result"
    }
   ],
   "source": [
    "df_blast = df_blast[((df_blast.length / df_blast.qlen) >= 0.7) &\n",
    "       ((df_blast.length / df_blast.slen) >= 0.7) &\n",
    "       ((df_blast.length / df_blast.qlen) <= 1.3) &\n",
    "       ((df_blast.length / df_blast.slen) <= 1.3)]\n",
    "\n",
    "print('blast:',len(df_blast.index))\n",
    "df_blast.tail(4)"
   ]
  },
  {
   "cell_type": "code",
   "execution_count": 43,
   "metadata": {},
   "outputs": [],
   "source": [
    "df_zavitan = df_zavitan_all[['id']]\n",
    "df_svevo = df_svevo_all[['id']]"
   ]
  },
  {
   "cell_type": "code",
   "execution_count": null,
   "metadata": {},
   "outputs": [],
   "source": []
  },
  {
   "cell_type": "code",
   "execution_count": 44,
   "metadata": {
    "scrolled": true
   },
   "outputs": [
    {
     "data": {
      "text/html": [
       "<div>\n",
       "<style scoped>\n",
       "    .dataframe tbody tr th:only-of-type {\n",
       "        vertical-align: middle;\n",
       "    }\n",
       "\n",
       "    .dataframe tbody tr th {\n",
       "        vertical-align: top;\n",
       "    }\n",
       "\n",
       "    .dataframe thead th {\n",
       "        text-align: right;\n",
       "    }\n",
       "</style>\n",
       "<table border=\"1\" class=\"dataframe\">\n",
       "  <thead>\n",
       "    <tr style=\"text-align: right;\">\n",
       "      <th></th>\n",
       "      <th>id</th>\n",
       "      <th>svevo</th>\n",
       "    </tr>\n",
       "  </thead>\n",
       "  <tbody>\n",
       "    <tr>\n",
       "      <th>0</th>\n",
       "      <td>TRIDC3Av2G023650</td>\n",
       "      <td>TRITD3Av1G027010</td>\n",
       "    </tr>\n",
       "    <tr>\n",
       "      <th>1</th>\n",
       "      <td>TRIDC3Av2G023650</td>\n",
       "      <td>TRITD3Av1G027010</td>\n",
       "    </tr>\n",
       "    <tr>\n",
       "      <th>2</th>\n",
       "      <td>TRIDC3Av2G023690</td>\n",
       "      <td>TRITD3Av1G027040</td>\n",
       "    </tr>\n",
       "  </tbody>\n",
       "</table>\n",
       "</div>"
      ],
      "text/plain": [
       "                 id             svevo\n",
       "0  TRIDC3Av2G023650  TRITD3Av1G027010\n",
       "1  TRIDC3Av2G023650  TRITD3Av1G027010\n",
       "2  TRIDC3Av2G023690  TRITD3Av1G027040"
      ]
     },
     "execution_count": 44,
     "metadata": {},
     "output_type": "execute_result"
    }
   ],
   "source": [
    "df_zavitan_merge = pd.merge(df_zavitan, df_blast, left_on='id', right_on='zavitan', how='left')\n",
    "df_zavitan_merge = df_zavitan_merge[['id','svevo']]\n",
    "df_zavitan_merge.head(3)"
   ]
  },
  {
   "cell_type": "code",
   "execution_count": 45,
   "metadata": {},
   "outputs": [
    {
     "data": {
      "text/html": [
       "<div>\n",
       "<style scoped>\n",
       "    .dataframe tbody tr th:only-of-type {\n",
       "        vertical-align: middle;\n",
       "    }\n",
       "\n",
       "    .dataframe tbody tr th {\n",
       "        vertical-align: top;\n",
       "    }\n",
       "\n",
       "    .dataframe thead th {\n",
       "        text-align: right;\n",
       "    }\n",
       "</style>\n",
       "<table border=\"1\" class=\"dataframe\">\n",
       "  <thead>\n",
       "    <tr style=\"text-align: right;\">\n",
       "      <th></th>\n",
       "      <th>id</th>\n",
       "      <th>zavitan</th>\n",
       "    </tr>\n",
       "  </thead>\n",
       "  <tbody>\n",
       "    <tr>\n",
       "      <th>0</th>\n",
       "      <td>TRITD3Av1G026840</td>\n",
       "      <td>NaN</td>\n",
       "    </tr>\n",
       "    <tr>\n",
       "      <th>1</th>\n",
       "      <td>TRITD3Av1G026860</td>\n",
       "      <td>NaN</td>\n",
       "    </tr>\n",
       "    <tr>\n",
       "      <th>2</th>\n",
       "      <td>TRITD3Av1G027010</td>\n",
       "      <td>TRIDC3Av2G023650</td>\n",
       "    </tr>\n",
       "  </tbody>\n",
       "</table>\n",
       "</div>"
      ],
      "text/plain": [
       "                 id           zavitan\n",
       "0  TRITD3Av1G026840               NaN\n",
       "1  TRITD3Av1G026860               NaN\n",
       "2  TRITD3Av1G027010  TRIDC3Av2G023650"
      ]
     },
     "execution_count": 45,
     "metadata": {},
     "output_type": "execute_result"
    }
   ],
   "source": [
    "df_svevo_merge = pd.merge(df_svevo, df_blast, left_on='id', right_on='svevo', how='left')\n",
    "df_svevo_merge = df_svevo_merge[['id','zavitan']]\n",
    "df_svevo_merge.head(3)"
   ]
  },
  {
   "cell_type": "code",
   "execution_count": 46,
   "metadata": {},
   "outputs": [],
   "source": [
    "df_merge = pd.merge(df_svevo_merge, df_zavitan_merge, left_on='id', right_on='svevo', how='outer')\n",
    "df_merge = df_merge[['id_x','id_y']]\n",
    "df_merge.columns = ['svevo','zavitan']\n"
   ]
  },
  {
   "cell_type": "code",
   "execution_count": 47,
   "metadata": {},
   "outputs": [],
   "source": [
    "df_merge.to_csv('disk/counts/cross.csv', sep=',', index=None)"
   ]
  },
  {
   "cell_type": "code",
   "execution_count": 48,
   "metadata": {},
   "outputs": [
    {
     "name": "stdout",
     "output_type": "stream",
     "text": [
      "657\n"
     ]
    },
    {
     "data": {
      "text/html": [
       "<div>\n",
       "<style scoped>\n",
       "    .dataframe tbody tr th:only-of-type {\n",
       "        vertical-align: middle;\n",
       "    }\n",
       "\n",
       "    .dataframe tbody tr th {\n",
       "        vertical-align: top;\n",
       "    }\n",
       "\n",
       "    .dataframe thead th {\n",
       "        text-align: right;\n",
       "    }\n",
       "</style>\n",
       "<table border=\"1\" class=\"dataframe\">\n",
       "  <thead>\n",
       "    <tr style=\"text-align: right;\">\n",
       "      <th></th>\n",
       "      <th>svevo</th>\n",
       "      <th>zavitan</th>\n",
       "    </tr>\n",
       "  </thead>\n",
       "  <tbody>\n",
       "    <tr>\n",
       "      <th>0</th>\n",
       "      <td>TRITD3Av1G026840</td>\n",
       "      <td>NaN</td>\n",
       "    </tr>\n",
       "    <tr>\n",
       "      <th>1</th>\n",
       "      <td>TRITD3Av1G026860</td>\n",
       "      <td>NaN</td>\n",
       "    </tr>\n",
       "    <tr>\n",
       "      <th>2</th>\n",
       "      <td>TRITD3Av1G027010</td>\n",
       "      <td>TRIDC3Av2G023650</td>\n",
       "    </tr>\n",
       "  </tbody>\n",
       "</table>\n",
       "</div>"
      ],
      "text/plain": [
       "              svevo           zavitan\n",
       "0  TRITD3Av1G026840               NaN\n",
       "1  TRITD3Av1G026860               NaN\n",
       "2  TRITD3Av1G027010  TRIDC3Av2G023650"
      ]
     },
     "execution_count": 48,
     "metadata": {},
     "output_type": "execute_result"
    }
   ],
   "source": [
    "print(len(df_merge.index))\n",
    "df_merge.head(3)"
   ]
  },
  {
   "cell_type": "code",
   "execution_count": 49,
   "metadata": {},
   "outputs": [],
   "source": [
    "#add info to list\n",
    "file_ann_svevo = 'disk/PGSB_TRITD_Jan2017_all.gff3'\n",
    "file_ann_zav_v2 = 'disk/SORTED_WEW_v2_HC_e_LC_GFF3_CATTATI_gff_PAO_26feb18.gff3'\n",
    "\n",
    "df_ann_sv = pd.read_csv(file_ann_svevo, index_col=False, sep='\\t', header=None)\n",
    "df_ann_sv.columns = ['seqname', 'source', 'feature', 'start', 'end', 'score', 'strand', 'frame', 'attribute']\n",
    "\n",
    "df_ann_zv = pd.read_csv(file_ann_zav_v2, index_col=False, sep='\\t', header=None)\n",
    "df_ann_zv.columns = ['seqname', 'source', 'feature', 'start', 'end', 'score', 'strand', 'frame', 'attribute']\n",
    "\n",
    "df_ann_zv = df_ann_zv[df_ann_zv.feature=='gene']\n",
    "df_ann_zv = df_ann_zv[df_ann_zv.seqname == 'chr3A']\n",
    "df_ann_sv = df_ann_sv[df_ann_sv.feature =='gene']\n",
    "df_ann_sv = df_ann_sv[df_ann_sv.seqname == 'chr3A']\n",
    "\n"
   ]
  },
  {
   "cell_type": "code",
   "execution_count": 50,
   "metadata": {},
   "outputs": [],
   "source": [
    "df_ann_sv['gene'] = df_ann_sv.attribute.str.split(';', expand=True)[0].str.split('=', expand=True)[1]\n",
    "df_ann_zv['gene'] = df_ann_zv.attribute.str.split(';', expand=True)[0].str.split('=', expand=True)[1]\n",
    "\n",
    "df_ann_sv = df_ann_sv[['seqname','start','end','gene']]\n",
    "df_ann_zv = df_ann_zv[['seqname','start','end','gene']]"
   ]
  },
  {
   "cell_type": "code",
   "execution_count": null,
   "metadata": {},
   "outputs": [],
   "source": []
  },
  {
   "cell_type": "code",
   "execution_count": null,
   "metadata": {},
   "outputs": [],
   "source": []
  },
  {
   "cell_type": "code",
   "execution_count": 51,
   "metadata": {},
   "outputs": [],
   "source": [
    "#adds svevo coordinates\n",
    "df_merge_svevo = pd.merge(df_merge, df_ann_sv, left_on='svevo', right_on='gene', how='left')\n",
    "df_merge_svevo = df_merge_svevo[['seqname','start','end','svevo','zavitan']]\n",
    "df_merge_svevo.columns = ['svevo.seqname','svevo.start','svevo.end','svevo.gene','zavitan.gene']"
   ]
  },
  {
   "cell_type": "code",
   "execution_count": null,
   "metadata": {},
   "outputs": [],
   "source": []
  },
  {
   "cell_type": "code",
   "execution_count": 65,
   "metadata": {},
   "outputs": [],
   "source": [
    "#adds zavitan coordinates\n",
    "df_merge_zavitan = pd.merge(df_merge_svevo, df_ann_zv, left_on='zavitan.gene', right_on='gene', how='left')\n",
    "df_merge_zavitan = df_merge_zavitan[['svevo.seqname','svevo.start','svevo.end','svevo.gene','zavitan.gene','seqname','start','end']]\n",
    "df_merge_zavitan.columns = ['svevo.seqname','svevo.start','svevo.end','svevo.gene','zavitan.gene','zavitan.seqname','zavitan.start','zavitan.end']\n",
    "\n"
   ]
  },
  {
   "cell_type": "code",
   "execution_count": 66,
   "metadata": {},
   "outputs": [
    {
     "name": "stdout",
     "output_type": "stream",
     "text": [
      "657\n",
      "W/O duplicates: 208\n"
     ]
    }
   ],
   "source": [
    "print(len(df_merge_zavitan.index))\n",
    "df_merge_zavitan.drop_duplicates( keep='first', inplace=True)\n",
    "print(\"W/O duplicates:\",len(df_merge_zavitan.index))"
   ]
  },
  {
   "cell_type": "code",
   "execution_count": 67,
   "metadata": {},
   "outputs": [
    {
     "data": {
      "text/html": [
       "<div>\n",
       "<style scoped>\n",
       "    .dataframe tbody tr th:only-of-type {\n",
       "        vertical-align: middle;\n",
       "    }\n",
       "\n",
       "    .dataframe tbody tr th {\n",
       "        vertical-align: top;\n",
       "    }\n",
       "\n",
       "    .dataframe thead th {\n",
       "        text-align: right;\n",
       "    }\n",
       "</style>\n",
       "<table border=\"1\" class=\"dataframe\">\n",
       "  <thead>\n",
       "    <tr style=\"text-align: right;\">\n",
       "      <th></th>\n",
       "      <th>svevo.seqname</th>\n",
       "      <th>svevo.start</th>\n",
       "      <th>svevo.end</th>\n",
       "      <th>svevo.gene</th>\n",
       "      <th>zavitan.gene</th>\n",
       "      <th>zavitan.seqname</th>\n",
       "      <th>zavitan.start</th>\n",
       "      <th>zavitan.end</th>\n",
       "    </tr>\n",
       "  </thead>\n",
       "  <tbody>\n",
       "    <tr>\n",
       "      <th>0</th>\n",
       "      <td>chr3A</td>\n",
       "      <td>54132399.0</td>\n",
       "      <td>54132875.0</td>\n",
       "      <td>TRITD3Av1G026840</td>\n",
       "      <td>NaN</td>\n",
       "      <td>NaN</td>\n",
       "      <td>NaN</td>\n",
       "      <td>NaN</td>\n",
       "    </tr>\n",
       "    <tr>\n",
       "      <th>1</th>\n",
       "      <td>chr3A</td>\n",
       "      <td>54184665.0</td>\n",
       "      <td>54187934.0</td>\n",
       "      <td>TRITD3Av1G026860</td>\n",
       "      <td>NaN</td>\n",
       "      <td>NaN</td>\n",
       "      <td>NaN</td>\n",
       "      <td>NaN</td>\n",
       "    </tr>\n",
       "    <tr>\n",
       "      <th>2</th>\n",
       "      <td>chr3A</td>\n",
       "      <td>54339905.0</td>\n",
       "      <td>54342744.0</td>\n",
       "      <td>TRITD3Av1G027010</td>\n",
       "      <td>TRIDC3Av2G023650</td>\n",
       "      <td>chr3A</td>\n",
       "      <td>54834278.0</td>\n",
       "      <td>54837117.0</td>\n",
       "    </tr>\n",
       "    <tr>\n",
       "      <th>6</th>\n",
       "      <td>chr3A</td>\n",
       "      <td>54405290.0</td>\n",
       "      <td>54410142.0</td>\n",
       "      <td>TRITD3Av1G027040</td>\n",
       "      <td>TRIDC3Av2G023690</td>\n",
       "      <td>chr3A</td>\n",
       "      <td>54901515.0</td>\n",
       "      <td>54905244.0</td>\n",
       "    </tr>\n",
       "  </tbody>\n",
       "</table>\n",
       "</div>"
      ],
      "text/plain": [
       "  svevo.seqname  svevo.start   svevo.end        svevo.gene      zavitan.gene  \\\n",
       "0         chr3A   54132399.0  54132875.0  TRITD3Av1G026840               NaN   \n",
       "1         chr3A   54184665.0  54187934.0  TRITD3Av1G026860               NaN   \n",
       "2         chr3A   54339905.0  54342744.0  TRITD3Av1G027010  TRIDC3Av2G023650   \n",
       "6         chr3A   54405290.0  54410142.0  TRITD3Av1G027040  TRIDC3Av2G023690   \n",
       "\n",
       "  zavitan.seqname  zavitan.start  zavitan.end  \n",
       "0             NaN            NaN          NaN  \n",
       "1             NaN            NaN          NaN  \n",
       "2           chr3A     54834278.0   54837117.0  \n",
       "6           chr3A     54901515.0   54905244.0  "
      ]
     },
     "execution_count": 67,
     "metadata": {},
     "output_type": "execute_result"
    }
   ],
   "source": [
    "df_merge_zavitan.head(4)\n"
   ]
  },
  {
   "cell_type": "code",
   "execution_count": 68,
   "metadata": {},
   "outputs": [],
   "source": [
    "\n",
    "\n",
    "df_merge_zavitan = pd.merge(df_merge_zavitan,df_svevo_all[['id','log2FoldChange','padj']], left_on='svevo.gene', right_on='id', how='left')\n",
    "df_merge_zavitan.rename(columns= {'log2FoldChange':'svevo.l2fc', 'padj':'svevo.padj'}, inplace=True)\n",
    "df_merge_zavitan.drop('id', axis=1, inplace=True)\n",
    "\n",
    "\n",
    "df_merge_zavitan = pd.merge(df_merge_zavitan,df_zavitan_all[['id','log2FoldChange','padj']], left_on='zavitan.gene', right_on='id', how='left')\n",
    "df_merge_zavitan.rename(columns={'log2FoldChange':'zavitan.l2fc', 'padj':'zavitan.padj'}, inplace=True)\n",
    "df_merge_zavitan.drop('id', axis=1, inplace=True)\n"
   ]
  },
  {
   "cell_type": "code",
   "execution_count": 71,
   "metadata": {},
   "outputs": [],
   "source": [
    "df_merge_zavitan = df_merge_zavitan[['svevo.seqname','svevo.start','svevo.end','svevo.padj','svevo.l2fc','svevo.gene','zavitan.gene','zavitan.seqname','zavitan.start','zavitan.end','zavitan.padj','zavitan.l2fc']]\n",
    "df_merge_zavitan.to_csv('disk/counts/cross_info.csv', sep=',', index=None)\n",
    "\n"
   ]
  },
  {
   "cell_type": "code",
   "execution_count": null,
   "metadata": {},
   "outputs": [],
   "source": []
  }
 ],
 "metadata": {
  "kernelspec": {
   "display_name": "Python 3",
   "language": "python",
   "name": "python3"
  },
  "language_info": {
   "codemirror_mode": {
    "name": "ipython",
    "version": 3
   },
   "file_extension": ".py",
   "mimetype": "text/x-python",
   "name": "python",
   "nbconvert_exporter": "python",
   "pygments_lexer": "ipython3",
   "version": "3.6.5"
  }
 },
 "nbformat": 4,
 "nbformat_minor": 2
}
