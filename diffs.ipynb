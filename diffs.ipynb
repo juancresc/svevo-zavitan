{
 "cells": [
  {
   "cell_type": "code",
   "execution_count": 1,
   "metadata": {},
   "outputs": [],
   "source": [
    "import pandas as pd\n",
    "vcf_cols = ['CHROM','POS','ID','REF','ALT','QUAL','FILTER','INFO','FORMAT','disk/data/dic_svevo.region.bam']"
   ]
  },
  {
   "cell_type": "code",
   "execution_count": 2,
   "metadata": {},
   "outputs": [
    {
     "name": "stdout",
     "output_type": "stream",
     "text": [
      "225\n"
     ]
    }
   ],
   "source": [
    "v_dic_wew = pd.read_csv('disk/data/variant_dic_wew.ann.vcf', sep='\\t', comment='#', header=None)\n",
    "v_dic_wew.columns = vcf_cols\n",
    "print(len(v_dic_wew.index))"
   ]
  },
  {
   "cell_type": "code",
   "execution_count": 3,
   "metadata": {},
   "outputs": [
    {
     "name": "stdout",
     "output_type": "stream",
     "text": [
      "627\n"
     ]
    }
   ],
   "source": [
    "v_lan_wew = pd.read_csv('disk/data/variant_lan_wew.ann.vcf', sep='\\t', comment='#', header=None)\n",
    "v_lan_wew.columns = vcf_cols\n",
    "print(len(v_lan_wew.index))"
   ]
  },
  {
   "cell_type": "code",
   "execution_count": 6,
   "metadata": {},
   "outputs": [
    {
     "name": "stdout",
     "output_type": "stream",
     "text": [
      "CHROM                                                                         chr3A\n",
      "POS                                                                        54642850\n",
      "ID                                                                                .\n",
      "REF                                                                               T\n",
      "ALT                                                                               C\n",
      "QUAL                                                                            131\n",
      "FILTER                                                                            .\n",
      "INFO                              DP=12;VDB=0.000218313;SGB=-0.676189;MQSB=0.777...\n",
      "FORMAT                                                                        GT:PL\n",
      "disk/data/dic_svevo.region.bam                                         1/1:161,33,0\n",
      "Name: 1, dtype: object\n",
      "   CHROM       POS ID REF ALT     QUAL FILTER  \\\n",
      "8  chr3A  54642850  .   T   C  41.2526      .   \n",
      "\n",
      "                                                INFO FORMAT  \\\n",
      "8  DP=45;VDB=0.000210902;SGB=-0.683931;RPB=0.0027...  GT:PL   \n",
      "\n",
      "  disk/data/dic_svevo.region.bam  \n",
      "8                   0/1:76,0,255  \n"
     ]
    }
   ],
   "source": [
    "for k,v in v_dic_wew.iterrows():\n",
    "    res = v_lan_wew[(v_lan_wew.CHROM == v.CHROM) & (v_lan_wew.POS == v.POS) & (v_lan_wew.REF == v.REF)  & (v_lan_wew.ALT == v.ALT)]\n",
    "    if(len(res.index) > 0):\n",
    "        print(v)\n",
    "        print(res)\n",
    "        break"
   ]
  },
  {
   "cell_type": "code",
   "execution_count": null,
   "metadata": {},
   "outputs": [],
   "source": []
  }
 ],
 "metadata": {
  "kernelspec": {
   "display_name": "Python 3",
   "language": "python",
   "name": "python3"
  },
  "language_info": {
   "codemirror_mode": {
    "name": "ipython",
    "version": 3
   },
   "file_extension": ".py",
   "mimetype": "text/x-python",
   "name": "python",
   "nbconvert_exporter": "python",
   "pygments_lexer": "ipython3",
   "version": "3.6.5"
  }
 },
 "nbformat": 4,
 "nbformat_minor": 2
}
