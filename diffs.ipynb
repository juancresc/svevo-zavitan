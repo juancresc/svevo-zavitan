{
 "cells": [
  {
   "cell_type": "code",
   "execution_count": 27,
   "metadata": {},
   "outputs": [],
   "source": [
    "import pandas as pd"
   ]
  },
  {
   "cell_type": "code",
   "execution_count": 28,
   "metadata": {},
   "outputs": [],
   "source": [
    "vcf_cols = ['CHROM','POS','ID','REF','ALT','QUAL','FILTER','INFO','FORMAT','disk/data/dic_svevo.region.bam']"
   ]
  },
  {
   "cell_type": "code",
   "execution_count": 49,
   "metadata": {},
   "outputs": [],
   "source": [
    "#only_lan_svevo\n",
    "file_only_in = 'disk/data/variant_lan_svevo.ann.vcf'\n",
    "file_compare_to = 'disk/data/variant_dic_svevo.ann.vcf'\n",
    "file_res = 'disk/data/variants_only_lan_svevo.ann.vcf.csv'"
   ]
  },
  {
   "cell_type": "code",
   "execution_count": 35,
   "metadata": {},
   "outputs": [],
   "source": [
    "#only_dic_svevo\n",
    "file_only_in = 'disk/data/variant_dic_svevo.ann.vcf'\n",
    "file_compare_to = 'disk/data/variant_lan_svevo.ann.vcf'\n",
    "file_res = 'disk/data/variants_only_dic_svevo.ann.vcf.csv'"
   ]
  },
  {
   "cell_type": "code",
   "execution_count": 56,
   "metadata": {},
   "outputs": [],
   "source": [
    "#only_dic_wew\n",
    "file_only_in = 'disk/data/variant_dic_wew.ann.vcf'\n",
    "file_compare_to = 'disk/data/variant_lan_wew.ann.vcf'\n",
    "file_res = 'disk/data/variants_only_dic_wew.ann.vcf.csv'"
   ]
  },
  {
   "cell_type": "code",
   "execution_count": null,
   "metadata": {},
   "outputs": [],
   "source": [
    "#only_lan_wew\n",
    "file_only_in = 'disk/data/variant_lan_wew.ann.vcf'\n",
    "file_compare_to = 'disk/data/variant_dic_wew.ann.vcf'\n",
    "file_res = 'disk/data/variants_only_lan_wew.ann.vcf.csv'"
   ]
  },
  {
   "cell_type": "code",
   "execution_count": 57,
   "metadata": {},
   "outputs": [
    {
     "name": "stdout",
     "output_type": "stream",
     "text": [
      "24\n"
     ]
    }
   ],
   "source": [
    "df_in = pd.read_csv(file_only_in, sep='\\t', comment='#', header=None)\n",
    "df_in.columns = vcf_cols\n",
    "print(len(df_in.index))"
   ]
  },
  {
   "cell_type": "code",
   "execution_count": 58,
   "metadata": {},
   "outputs": [
    {
     "name": "stdout",
     "output_type": "stream",
     "text": [
      "166\n"
     ]
    }
   ],
   "source": [
    "df_to = pd.read_csv(file_compare_to, sep='\\t', comment='#', header=None)\n",
    "df_to.columns = vcf_cols\n",
    "print(len(df_to.index))"
   ]
  },
  {
   "cell_type": "code",
   "execution_count": 59,
   "metadata": {},
   "outputs": [
    {
     "name": "stdout",
     "output_type": "stream",
     "text": [
      "Variants in both genotypes: 6\n",
      "Unique variants (R): 18\n"
     ]
    }
   ],
   "source": [
    "count_both = count_diff = 0\n",
    "r_variants = []\n",
    "for k,v in df_in.iterrows(): #(R)\n",
    "    res = df_to[(df_to.CHROM == v.CHROM) & (df_to.POS == v.POS) & (df_to.REF == v.REF)  & (df_to.ALT == v.ALT)]\n",
    "    if(len(res.index) > 0): #the (S) genotype has the same variant?\n",
    "        count_both += 1\n",
    "    else:\n",
    "        count_diff += 1\n",
    "        r_variants.append(v) #this variant is only present in (R)\n",
    "print('Variants in both genotypes: ' + str(count_both))\n",
    "print('Unique variants (R): ' + str(count_diff))\n"
   ]
  },
  {
   "cell_type": "code",
   "execution_count": 60,
   "metadata": {},
   "outputs": [
    {
     "data": {
      "text/html": [
       "<div>\n",
       "<style scoped>\n",
       "    .dataframe tbody tr th:only-of-type {\n",
       "        vertical-align: middle;\n",
       "    }\n",
       "\n",
       "    .dataframe tbody tr th {\n",
       "        vertical-align: top;\n",
       "    }\n",
       "\n",
       "    .dataframe thead th {\n",
       "        text-align: right;\n",
       "    }\n",
       "</style>\n",
       "<table border=\"1\" class=\"dataframe\">\n",
       "  <thead>\n",
       "    <tr style=\"text-align: right;\">\n",
       "      <th></th>\n",
       "      <th>CHROM</th>\n",
       "      <th>POS</th>\n",
       "      <th>ID</th>\n",
       "      <th>REF</th>\n",
       "      <th>ALT</th>\n",
       "      <th>QUAL</th>\n",
       "      <th>FILTER</th>\n",
       "      <th>INFO</th>\n",
       "      <th>FORMAT</th>\n",
       "      <th>disk/data/dic_svevo.region.bam</th>\n",
       "    </tr>\n",
       "  </thead>\n",
       "  <tbody>\n",
       "    <tr>\n",
       "      <th>2</th>\n",
       "      <td>chr3A</td>\n",
       "      <td>55913017</td>\n",
       "      <td>.</td>\n",
       "      <td>A</td>\n",
       "      <td>C</td>\n",
       "      <td>143.0</td>\n",
       "      <td>.</td>\n",
       "      <td>DP=8;VDB=0.0341101;SGB=-0.616816;MQSB=1;MQ0F=0...</td>\n",
       "      <td>GT:PL</td>\n",
       "      <td>1/1:173,18,0</td>\n",
       "    </tr>\n",
       "    <tr>\n",
       "      <th>3</th>\n",
       "      <td>chr3A</td>\n",
       "      <td>58325322</td>\n",
       "      <td>.</td>\n",
       "      <td>G</td>\n",
       "      <td>A</td>\n",
       "      <td>131.0</td>\n",
       "      <td>.</td>\n",
       "      <td>DP=6;VDB=0.539429;SGB=-0.590765;MQSB=1;MQ0F=0;...</td>\n",
       "      <td>GT:PL</td>\n",
       "      <td>1/1:161,15,0</td>\n",
       "    </tr>\n",
       "    <tr>\n",
       "      <th>4</th>\n",
       "      <td>chr3A</td>\n",
       "      <td>58857001</td>\n",
       "      <td>.</td>\n",
       "      <td>A</td>\n",
       "      <td>G</td>\n",
       "      <td>225.0</td>\n",
       "      <td>.</td>\n",
       "      <td>DP=14;VDB=0.817437;SGB=-0.683931;MQSB=1;MQ0F=0...</td>\n",
       "      <td>GT:PL</td>\n",
       "      <td>1/1:255,39,0</td>\n",
       "    </tr>\n",
       "  </tbody>\n",
       "</table>\n",
       "</div>"
      ],
      "text/plain": [
       "   CHROM       POS ID REF ALT   QUAL FILTER  \\\n",
       "2  chr3A  55913017  .   A   C  143.0      .   \n",
       "3  chr3A  58325322  .   G   A  131.0      .   \n",
       "4  chr3A  58857001  .   A   G  225.0      .   \n",
       "\n",
       "                                                INFO FORMAT  \\\n",
       "2  DP=8;VDB=0.0341101;SGB=-0.616816;MQSB=1;MQ0F=0...  GT:PL   \n",
       "3  DP=6;VDB=0.539429;SGB=-0.590765;MQSB=1;MQ0F=0;...  GT:PL   \n",
       "4  DP=14;VDB=0.817437;SGB=-0.683931;MQSB=1;MQ0F=0...  GT:PL   \n",
       "\n",
       "  disk/data/dic_svevo.region.bam  \n",
       "2                   1/1:173,18,0  \n",
       "3                   1/1:161,15,0  \n",
       "4                   1/1:255,39,0  "
      ]
     },
     "execution_count": 60,
     "metadata": {},
     "output_type": "execute_result"
    }
   ],
   "source": [
    "df = pd.DataFrame(r_variants)\n",
    "df.head(3)"
   ]
  },
  {
   "cell_type": "code",
   "execution_count": 61,
   "metadata": {},
   "outputs": [],
   "source": [
    "df.to_csv(file_res, sep='\\t', index=False)"
   ]
  },
  {
   "cell_type": "code",
   "execution_count": 62,
   "metadata": {},
   "outputs": [
    {
     "data": {
      "text/html": [
       "<div>\n",
       "<style scoped>\n",
       "    .dataframe tbody tr th:only-of-type {\n",
       "        vertical-align: middle;\n",
       "    }\n",
       "\n",
       "    .dataframe tbody tr th {\n",
       "        vertical-align: top;\n",
       "    }\n",
       "\n",
       "    .dataframe thead th {\n",
       "        text-align: right;\n",
       "    }\n",
       "</style>\n",
       "<table border=\"1\" class=\"dataframe\">\n",
       "  <thead>\n",
       "    <tr style=\"text-align: right;\">\n",
       "      <th></th>\n",
       "      <th>CHROM</th>\n",
       "      <th>POS</th>\n",
       "      <th>ID</th>\n",
       "      <th>REF</th>\n",
       "      <th>ALT</th>\n",
       "      <th>QUAL</th>\n",
       "      <th>FILTER</th>\n",
       "      <th>INFO</th>\n",
       "      <th>FORMAT</th>\n",
       "      <th>disk/data/dic_svevo.region.bam</th>\n",
       "    </tr>\n",
       "  </thead>\n",
       "  <tbody>\n",
       "    <tr>\n",
       "      <th>8</th>\n",
       "      <td>chr3A</td>\n",
       "      <td>59257104</td>\n",
       "      <td>.</td>\n",
       "      <td>G</td>\n",
       "      <td>GA</td>\n",
       "      <td>53.0000</td>\n",
       "      <td>.</td>\n",
       "      <td>INDEL;IDV=3;IMF=0.0127119;DP=5;VDB=0.842333;SG...</td>\n",
       "      <td>GT:PL</td>\n",
       "      <td>0/1:87,0,18</td>\n",
       "    </tr>\n",
       "    <tr>\n",
       "      <th>14</th>\n",
       "      <td>chr3A</td>\n",
       "      <td>63968264</td>\n",
       "      <td>.</td>\n",
       "      <td>TAAAAAAAA</td>\n",
       "      <td>TAAAAAAAAA</td>\n",
       "      <td>26.8053</td>\n",
       "      <td>.</td>\n",
       "      <td>INDEL;IDV=15;IMF=0.9375;DP=15;VDB=0.0932819;SG...</td>\n",
       "      <td>GT:PL</td>\n",
       "      <td>1/1:82,63,27</td>\n",
       "    </tr>\n",
       "    <tr>\n",
       "      <th>21</th>\n",
       "      <td>chr3A</td>\n",
       "      <td>74684083</td>\n",
       "      <td>.</td>\n",
       "      <td>CA</td>\n",
       "      <td>CAA</td>\n",
       "      <td>163.0000</td>\n",
       "      <td>.</td>\n",
       "      <td>INDEL;IDV=6;IMF=0.0652174;DP=6;VDB=0.000481013...</td>\n",
       "      <td>GT:PL</td>\n",
       "      <td>1/1:193,18,0</td>\n",
       "    </tr>\n",
       "  </tbody>\n",
       "</table>\n",
       "</div>"
      ],
      "text/plain": [
       "    CHROM       POS ID        REF         ALT      QUAL FILTER  \\\n",
       "8   chr3A  59257104  .          G          GA   53.0000      .   \n",
       "14  chr3A  63968264  .  TAAAAAAAA  TAAAAAAAAA   26.8053      .   \n",
       "21  chr3A  74684083  .         CA         CAA  163.0000      .   \n",
       "\n",
       "                                                 INFO FORMAT  \\\n",
       "8   INDEL;IDV=3;IMF=0.0127119;DP=5;VDB=0.842333;SG...  GT:PL   \n",
       "14  INDEL;IDV=15;IMF=0.9375;DP=15;VDB=0.0932819;SG...  GT:PL   \n",
       "21  INDEL;IDV=6;IMF=0.0652174;DP=6;VDB=0.000481013...  GT:PL   \n",
       "\n",
       "   disk/data/dic_svevo.region.bam  \n",
       "8                     0/1:87,0,18  \n",
       "14                   1/1:82,63,27  \n",
       "21                   1/1:193,18,0  "
      ]
     },
     "execution_count": 62,
     "metadata": {},
     "output_type": "execute_result"
    }
   ],
   "source": [
    "df[df.INFO.str.contains('HIGH')]"
   ]
  },
  {
   "cell_type": "code",
   "execution_count": null,
   "metadata": {},
   "outputs": [],
   "source": []
  },
  {
   "cell_type": "code",
   "execution_count": null,
   "metadata": {},
   "outputs": [],
   "source": []
  },
  {
   "cell_type": "code",
   "execution_count": null,
   "metadata": {},
   "outputs": [],
   "source": []
  }
 ],
 "metadata": {
  "kernelspec": {
   "display_name": "Python 3",
   "language": "python",
   "name": "python3"
  },
  "language_info": {
   "codemirror_mode": {
    "name": "ipython",
    "version": 3
   },
   "file_extension": ".py",
   "mimetype": "text/x-python",
   "name": "python",
   "nbconvert_exporter": "python",
   "pygments_lexer": "ipython3",
   "version": "3.6.5"
  }
 },
 "nbformat": 4,
 "nbformat_minor": 2
}
