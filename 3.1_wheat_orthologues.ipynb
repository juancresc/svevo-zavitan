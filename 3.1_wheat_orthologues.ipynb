{
 "cells": [
  {
   "cell_type": "code",
   "execution_count": 2,
   "metadata": {},
   "outputs": [],
   "source": [
    "import pandas as pd\n",
    "from Bio import SeqIO\n",
    "from Bio.SeqRecord import SeqRecord\n",
    "from Bio.Seq import Seq\n",
    "file_wheat = \"/Volumes/toshiba/bio/IWGSC/by_chr/iwgsc_refseqv1.0_chr3A.fsa\""
   ]
  },
  {
   "cell_type": "code",
   "execution_count": 3,
   "metadata": {},
   "outputs": [],
   "source": [
    "file_genes = \"/Volumes/toshiba/bio/daniela/counts/svevo.counts.fa\"\n",
    "file_limit = \"/Volumes/toshiba/bio/daniela/counts/svevo.limit.fa\"\n",
    "gene_list = ['TRITD3Av1G026860','TRITD3Av1G027040','TRITD3Av1G036950','TRITD3Av1G036910']"
   ]
  },
  {
   "cell_type": "code",
   "execution_count": 10,
   "metadata": {},
   "outputs": [],
   "source": [
    "file_genes = \"/Volumes/toshiba/bio/daniela/counts/zav_v2.counts.fa\"\n",
    "file_limit = \"/Volumes/toshiba/bio/daniela/counts/zavitan.limit.fa\"\n",
    "gene_list = ['TRIDC3Av2G023690','TRIDC3Av2G024160','TRIDC3Av2G034660', 'TRIDC3Av2G034210', 'TRIDC3Av2G034600','TRIDC3Av2G034360']\n"
   ]
  },
  {
   "cell_type": "code",
   "execution_count": 11,
   "metadata": {},
   "outputs": [
    {
     "data": {
      "text/plain": [
       "6"
      ]
     },
     "execution_count": 11,
     "metadata": {},
     "output_type": "execute_result"
    }
   ],
   "source": [
    "fasta_file = SeqIO.parse(file_genes, 'fasta')\n",
    "buffer_seqs = []\n",
    "for record in fasta_file:\n",
    "    if record.id in gene_list:\n",
    "        buffer_seqs.append(record)\n",
    "SeqIO.write(buffer_seqs, file_limit, \"fasta\")\n"
   ]
  },
  {
   "cell_type": "code",
   "execution_count": null,
   "metadata": {},
   "outputs": [],
   "source": [
    "# cat disk/counts/svevo.limit.fa disk/counts/zavitan.limit.fa > disk/counts/limits.fa\n",
    "# blastn -perc_identity 85  -query /media/juan/toshiba/bio/daniela/counts/limits.fa -subject /media/juan/toshiba/bio/IWGSC/by_chr/iwgsc_refseqv1.0_chr3A.fsa  -outfmt \"6 qseqid sseqid pident mismatch gapopen qstart qend sstart send evalue length qlen slen\"  -evalue 10e-10  > /media/juan/toshiba/bio/daniela/counts/wheat_limits.csv\n"
   ]
  },
  {
   "cell_type": "code",
   "execution_count": 16,
   "metadata": {},
   "outputs": [
    {
     "data": {
      "text/html": [
       "<div>\n",
       "<style scoped>\n",
       "    .dataframe tbody tr th:only-of-type {\n",
       "        vertical-align: middle;\n",
       "    }\n",
       "\n",
       "    .dataframe tbody tr th {\n",
       "        vertical-align: top;\n",
       "    }\n",
       "\n",
       "    .dataframe thead th {\n",
       "        text-align: right;\n",
       "    }\n",
       "</style>\n",
       "<table border=\"1\" class=\"dataframe\">\n",
       "  <thead>\n",
       "    <tr style=\"text-align: right;\">\n",
       "      <th></th>\n",
       "      <th>qseqid</th>\n",
       "      <th>sseqid</th>\n",
       "      <th>pident</th>\n",
       "      <th>mismatch</th>\n",
       "      <th>gapopen</th>\n",
       "      <th>qstart</th>\n",
       "      <th>qend</th>\n",
       "      <th>sstart</th>\n",
       "      <th>send</th>\n",
       "      <th>evalue</th>\n",
       "      <th>length</th>\n",
       "      <th>qlen</th>\n",
       "      <th>slen</th>\n",
       "    </tr>\n",
       "  </thead>\n",
       "  <tbody>\n",
       "    <tr>\n",
       "      <th>0</th>\n",
       "      <td>TRITD3Av1G026860</td>\n",
       "      <td>chr3A</td>\n",
       "      <td>99.541</td>\n",
       "      <td>14</td>\n",
       "      <td>1</td>\n",
       "      <td>1</td>\n",
       "      <td>3269</td>\n",
       "      <td>58683534</td>\n",
       "      <td>58686801</td>\n",
       "      <td>0.000000e+00</td>\n",
       "      <td>3269</td>\n",
       "      <td>3269</td>\n",
       "      <td>750843639</td>\n",
       "    </tr>\n",
       "    <tr>\n",
       "      <th>1</th>\n",
       "      <td>TRITD3Av1G026860</td>\n",
       "      <td>chr3A</td>\n",
       "      <td>96.996</td>\n",
       "      <td>7</td>\n",
       "      <td>0</td>\n",
       "      <td>129</td>\n",
       "      <td>361</td>\n",
       "      <td>58071300</td>\n",
       "      <td>58071532</td>\n",
       "      <td>1.580000e-106</td>\n",
       "      <td>233</td>\n",
       "      <td>3269</td>\n",
       "      <td>750843639</td>\n",
       "    </tr>\n",
       "    <tr>\n",
       "      <th>2</th>\n",
       "      <td>TRITD3Av1G026860</td>\n",
       "      <td>chr3A</td>\n",
       "      <td>89.908</td>\n",
       "      <td>11</td>\n",
       "      <td>0</td>\n",
       "      <td>1171</td>\n",
       "      <td>1279</td>\n",
       "      <td>585500962</td>\n",
       "      <td>585501070</td>\n",
       "      <td>6.320000e-31</td>\n",
       "      <td>109</td>\n",
       "      <td>3269</td>\n",
       "      <td>750843639</td>\n",
       "    </tr>\n",
       "  </tbody>\n",
       "</table>\n",
       "</div>"
      ],
      "text/plain": [
       "             qseqid sseqid  pident  mismatch  gapopen  qstart  qend  \\\n",
       "0  TRITD3Av1G026860  chr3A  99.541        14        1       1  3269   \n",
       "1  TRITD3Av1G026860  chr3A  96.996         7        0     129   361   \n",
       "2  TRITD3Av1G026860  chr3A  89.908        11        0    1171  1279   \n",
       "\n",
       "      sstart       send         evalue  length  qlen       slen  \n",
       "0   58683534   58686801   0.000000e+00    3269  3269  750843639  \n",
       "1   58071300   58071532  1.580000e-106     233  3269  750843639  \n",
       "2  585500962  585501070   6.320000e-31     109  3269  750843639  "
      ]
     },
     "execution_count": 16,
     "metadata": {},
     "output_type": "execute_result"
    }
   ],
   "source": [
    "file_blast = 'disk/counts/wheat_limits.csv'\n",
    "df_blast = pd.read_csv(file_blast, sep='\\t', header=None)\n",
    "df_blast.columns = ['qseqid','sseqid','pident','mismatch','gapopen','qstart','qend','sstart','send','evalue','length','qlen','slen']\n",
    "df_blast.head(3)"
   ]
  },
  {
   "cell_type": "code",
   "execution_count": 22,
   "metadata": {},
   "outputs": [
    {
     "data": {
      "text/html": [
       "<div>\n",
       "<style scoped>\n",
       "    .dataframe tbody tr th:only-of-type {\n",
       "        vertical-align: middle;\n",
       "    }\n",
       "\n",
       "    .dataframe tbody tr th {\n",
       "        vertical-align: top;\n",
       "    }\n",
       "\n",
       "    .dataframe thead th {\n",
       "        text-align: right;\n",
       "    }\n",
       "</style>\n",
       "<table border=\"1\" class=\"dataframe\">\n",
       "  <thead>\n",
       "    <tr style=\"text-align: right;\">\n",
       "      <th></th>\n",
       "      <th>qseqid</th>\n",
       "      <th>sseqid</th>\n",
       "      <th>pident</th>\n",
       "      <th>mismatch</th>\n",
       "      <th>gapopen</th>\n",
       "      <th>qstart</th>\n",
       "      <th>qend</th>\n",
       "      <th>sstart</th>\n",
       "      <th>send</th>\n",
       "      <th>evalue</th>\n",
       "      <th>length</th>\n",
       "      <th>qlen</th>\n",
       "      <th>slen</th>\n",
       "    </tr>\n",
       "  </thead>\n",
       "  <tbody>\n",
       "    <tr>\n",
       "      <th>0</th>\n",
       "      <td>TRITD3Av1G026860</td>\n",
       "      <td>chr3A</td>\n",
       "      <td>99.541</td>\n",
       "      <td>14</td>\n",
       "      <td>1</td>\n",
       "      <td>1</td>\n",
       "      <td>3269</td>\n",
       "      <td>58683534</td>\n",
       "      <td>58686801</td>\n",
       "      <td>0.0</td>\n",
       "      <td>3269</td>\n",
       "      <td>3269</td>\n",
       "      <td>750843639</td>\n",
       "    </tr>\n",
       "    <tr>\n",
       "      <th>192</th>\n",
       "      <td>TRITD3Av1G027040</td>\n",
       "      <td>chr3A</td>\n",
       "      <td>99.810</td>\n",
       "      <td>2</td>\n",
       "      <td>2</td>\n",
       "      <td>1162</td>\n",
       "      <td>4852</td>\n",
       "      <td>58927288</td>\n",
       "      <td>58930973</td>\n",
       "      <td>0.0</td>\n",
       "      <td>3691</td>\n",
       "      <td>4852</td>\n",
       "      <td>750843639</td>\n",
       "    </tr>\n",
       "    <tr>\n",
       "      <th>239</th>\n",
       "      <td>TRITD3Av1G036910</td>\n",
       "      <td>chr3A</td>\n",
       "      <td>100.000</td>\n",
       "      <td>0</td>\n",
       "      <td>0</td>\n",
       "      <td>1</td>\n",
       "      <td>2060</td>\n",
       "      <td>83720644</td>\n",
       "      <td>83722703</td>\n",
       "      <td>0.0</td>\n",
       "      <td>2060</td>\n",
       "      <td>2060</td>\n",
       "      <td>750843639</td>\n",
       "    </tr>\n",
       "  </tbody>\n",
       "</table>\n",
       "</div>"
      ],
      "text/plain": [
       "               qseqid sseqid   pident  mismatch  gapopen  qstart  qend  \\\n",
       "0    TRITD3Av1G026860  chr3A   99.541        14        1       1  3269   \n",
       "192  TRITD3Av1G027040  chr3A   99.810         2        2    1162  4852   \n",
       "239  TRITD3Av1G036910  chr3A  100.000         0        0       1  2060   \n",
       "\n",
       "       sstart      send  evalue  length  qlen       slen  \n",
       "0    58683534  58686801     0.0    3269  3269  750843639  \n",
       "192  58927288  58930973     0.0    3691  4852  750843639  \n",
       "239  83720644  83722703     0.0    2060  2060  750843639  "
      ]
     },
     "execution_count": 22,
     "metadata": {},
     "output_type": "execute_result"
    }
   ],
   "source": [
    "df_blast = df_blast[((df_blast.length / df_blast.qlen) >= 0.7) &\n",
    "       ((df_blast.length / abs(df_blast.sstart - df_blast.send)) >= 0.7) &\n",
    "       ((df_blast.length / df_blast.qlen) <= 1.3) &\n",
    "       ((df_blast.length / abs(df_blast.sstart - df_blast.send)) <= 1.3)]\n",
    "df_blast.head(3)"
   ]
  },
  {
   "cell_type": "code",
   "execution_count": 23,
   "metadata": {},
   "outputs": [],
   "source": [
    "mini = min(min(df_blast.send),min(df_blast.sstart))\n",
    "maxi = max(max(df_blast.send),max(df_blast.sstart))\n",
    "mini -= 100000\n",
    "maxi += 100000\n",
    "mini, maxi"
   ]
  },
  {
   "cell_type": "code",
   "execution_count": 24,
   "metadata": {},
   "outputs": [
    {
     "data": {
      "text/plain": [
       "(58683534, 83753545)"
      ]
     },
     "execution_count": 24,
     "metadata": {},
     "output_type": "execute_result"
    }
   ],
   "source": [
    "fasta_file = SeqIO.parse(file_wheat, 'fasta')\n",
    "buffer_seqs = []\n",
    "for record in fasta_file:\n",
    "    if record.id in gene_list:\n",
    "        buffer_seqs.append(record)\n",
    "SeqIO.write(buffer_seqs, file_limit, \"fasta\")\n"
   ]
  },
  {
   "cell_type": "code",
   "execution_count": null,
   "metadata": {},
   "outputs": [],
   "source": []
  },
  {
   "cell_type": "code",
   "execution_count": null,
   "metadata": {},
   "outputs": [],
   "source": []
  }
 ],
 "metadata": {
  "kernelspec": {
   "display_name": "Python 3",
   "language": "python",
   "name": "python3"
  },
  "language_info": {
   "codemirror_mode": {
    "name": "ipython",
    "version": 3
   },
   "file_extension": ".py",
   "mimetype": "text/x-python",
   "name": "python",
   "nbconvert_exporter": "python",
   "pygments_lexer": "ipython3",
   "version": "3.6.5"
  }
 },
 "nbformat": 4,
 "nbformat_minor": 2
}
