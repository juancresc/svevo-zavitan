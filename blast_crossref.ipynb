{
 "cells": [
  {
   "cell_type": "code",
   "execution_count": 121,
   "metadata": {},
   "outputs": [
    {
     "data": {
      "text/plain": [
       "'\\nBlasts genes from svevo and zavitan and finds putative orthologues\\nOutputs first, a table with genes corresponding to each reference\\nAdds interesting information to output, position in genome according to annotation,\\nposition of blast against genome, GO:terms\\n'"
      ]
     },
     "execution_count": 121,
     "metadata": {},
     "output_type": "execute_result"
    }
   ],
   "source": [
    "\"\"\"\n",
    "Blasts genes from svevo and zavitan and finds putative orthologues\n",
    "Outputs first, a table with genes corresponding to each reference\n",
    "Adds interesting information to output, position in genome according to annotation,\n",
    "position of blast against genome, GO:terms\n",
    "\"\"\"\n",
    "#blastn -perc_identity 85 -subject disk/counts/svevo.counts.fa -query disk/counts/zav_v2.counts.fa -outfmt \"6 qseqid sseqid pident mismatch gapopen qstart qend sstart send evalue length qlen slen\"  -evalue 10e-10 > disk/counts/blast_zv_sv.csv\n",
    "#blastn -perc_identity 85 -query disk/counts/svevo.counts.fa -subject disk/counts/zav_v2.counts.fa -outfmt \"6 qseqid sseqid pident mismatch gapopen qstart qend sstart send evalue length qlen slen\"  -evalue 10e-10 > disk/counts/blast_sv_zv.csv"
   ]
  },
  {
   "cell_type": "code",
   "execution_count": 122,
   "metadata": {},
   "outputs": [],
   "source": [
    "import pandas as pd"
   ]
  },
  {
   "cell_type": "code",
   "execution_count": 123,
   "metadata": {},
   "outputs": [],
   "source": [
    "file_zavitan = 'disk/counts/zavitan_v2.genes.csv'\n",
    "file_svevo = 'disk/counts/svevo.genes.csv'\n",
    "file_blast = 'disk/counts/blast_sv_zv.csv'\n",
    "\n",
    "df_zavitan = pd.read_csv(file_zavitan, sep=',', )\n",
    "df_svevo = pd.read_csv(file_svevo, sep=',', )\n",
    "\n",
    "df_blast = pd.read_csv(file_blast, sep='\\t', header=None)\n",
    "df_blast.columns = ['svevo','zavitan','pident','mismatch','gapopen','qstart','qend','sstart','send','evalue','length','qlen','slen']\n"
   ]
  },
  {
   "cell_type": "code",
   "execution_count": 124,
   "metadata": {},
   "outputs": [
    {
     "name": "stdout",
     "output_type": "stream",
     "text": [
      "blast: 195\n"
     ]
    },
    {
     "data": {
      "text/html": [
       "<div>\n",
       "<style scoped>\n",
       "    .dataframe tbody tr th:only-of-type {\n",
       "        vertical-align: middle;\n",
       "    }\n",
       "\n",
       "    .dataframe tbody tr th {\n",
       "        vertical-align: top;\n",
       "    }\n",
       "\n",
       "    .dataframe thead th {\n",
       "        text-align: right;\n",
       "    }\n",
       "</style>\n",
       "<table border=\"1\" class=\"dataframe\">\n",
       "  <thead>\n",
       "    <tr style=\"text-align: right;\">\n",
       "      <th></th>\n",
       "      <th>svevo</th>\n",
       "      <th>zavitan</th>\n",
       "      <th>pident</th>\n",
       "      <th>mismatch</th>\n",
       "      <th>gapopen</th>\n",
       "      <th>qstart</th>\n",
       "      <th>qend</th>\n",
       "      <th>sstart</th>\n",
       "      <th>send</th>\n",
       "      <th>evalue</th>\n",
       "      <th>length</th>\n",
       "      <th>qlen</th>\n",
       "      <th>slen</th>\n",
       "    </tr>\n",
       "  </thead>\n",
       "  <tbody>\n",
       "    <tr>\n",
       "      <th>2</th>\n",
       "      <td>TRITD3Av1G027010</td>\n",
       "      <td>TRIDC3Av2G023650</td>\n",
       "      <td>99.859</td>\n",
       "      <td>4</td>\n",
       "      <td>0</td>\n",
       "      <td>1</td>\n",
       "      <td>2839</td>\n",
       "      <td>1</td>\n",
       "      <td>2839</td>\n",
       "      <td>0.0</td>\n",
       "      <td>2839</td>\n",
       "      <td>2839</td>\n",
       "      <td>2839</td>\n",
       "    </tr>\n",
       "    <tr>\n",
       "      <th>3</th>\n",
       "      <td>TRITD3Av1G027040</td>\n",
       "      <td>TRIDC3Av2G023690</td>\n",
       "      <td>100.000</td>\n",
       "      <td>0</td>\n",
       "      <td>0</td>\n",
       "      <td>1162</td>\n",
       "      <td>4852</td>\n",
       "      <td>39</td>\n",
       "      <td>3729</td>\n",
       "      <td>0.0</td>\n",
       "      <td>3691</td>\n",
       "      <td>4852</td>\n",
       "      <td>3729</td>\n",
       "    </tr>\n",
       "    <tr>\n",
       "      <th>10</th>\n",
       "      <td>TRITD3Av1G027200</td>\n",
       "      <td>TRIDC3Av2G023850</td>\n",
       "      <td>97.690</td>\n",
       "      <td>114</td>\n",
       "      <td>18</td>\n",
       "      <td>2078</td>\n",
       "      <td>10540</td>\n",
       "      <td>2294</td>\n",
       "      <td>10718</td>\n",
       "      <td>0.0</td>\n",
       "      <td>8485</td>\n",
       "      <td>10540</td>\n",
       "      <td>10718</td>\n",
       "    </tr>\n",
       "    <tr>\n",
       "      <th>13</th>\n",
       "      <td>TRITD3Av1G027230</td>\n",
       "      <td>TRIDC3Av2G023890</td>\n",
       "      <td>99.538</td>\n",
       "      <td>46</td>\n",
       "      <td>7</td>\n",
       "      <td>1</td>\n",
       "      <td>13633</td>\n",
       "      <td>1</td>\n",
       "      <td>13632</td>\n",
       "      <td>0.0</td>\n",
       "      <td>13641</td>\n",
       "      <td>13633</td>\n",
       "      <td>13632</td>\n",
       "    </tr>\n",
       "  </tbody>\n",
       "</table>\n",
       "</div>"
      ],
      "text/plain": [
       "               svevo           zavitan   pident  mismatch  gapopen  qstart  \\\n",
       "2   TRITD3Av1G027010  TRIDC3Av2G023650   99.859         4        0       1   \n",
       "3   TRITD3Av1G027040  TRIDC3Av2G023690  100.000         0        0    1162   \n",
       "10  TRITD3Av1G027200  TRIDC3Av2G023850   97.690       114       18    2078   \n",
       "13  TRITD3Av1G027230  TRIDC3Av2G023890   99.538        46        7       1   \n",
       "\n",
       "     qend  sstart   send  evalue  length   qlen   slen  \n",
       "2    2839       1   2839     0.0    2839   2839   2839  \n",
       "3    4852      39   3729     0.0    3691   4852   3729  \n",
       "10  10540    2294  10718     0.0    8485  10540  10718  \n",
       "13  13633       1  13632     0.0   13641  13633  13632  "
      ]
     },
     "execution_count": 124,
     "metadata": {},
     "output_type": "execute_result"
    }
   ],
   "source": [
    "df_blast = df_blast[((df_blast.length / df_blast.qlen) >= 0.7) &\n",
    "       ((df_blast.length / df_blast.slen) >= 0.7) &\n",
    "       ((df_blast.length / df_blast.qlen) <= 1.3) &\n",
    "       ((df_blast.length / df_blast.slen) <= 1.3)]\n",
    "\n",
    "print('blast:',len(df_blast_svevo.index))\n",
    "df_blast.head(4)"
   ]
  },
  {
   "cell_type": "code",
   "execution_count": 125,
   "metadata": {},
   "outputs": [],
   "source": [
    "df_zavitan = df_zavitan[['id']]\n",
    "df_svevo = df_svevo[['id']]"
   ]
  },
  {
   "cell_type": "code",
   "execution_count": null,
   "metadata": {},
   "outputs": [],
   "source": []
  },
  {
   "cell_type": "code",
   "execution_count": 126,
   "metadata": {
    "scrolled": true
   },
   "outputs": [
    {
     "data": {
      "text/html": [
       "<div>\n",
       "<style scoped>\n",
       "    .dataframe tbody tr th:only-of-type {\n",
       "        vertical-align: middle;\n",
       "    }\n",
       "\n",
       "    .dataframe tbody tr th {\n",
       "        vertical-align: top;\n",
       "    }\n",
       "\n",
       "    .dataframe thead th {\n",
       "        text-align: right;\n",
       "    }\n",
       "</style>\n",
       "<table border=\"1\" class=\"dataframe\">\n",
       "  <thead>\n",
       "    <tr style=\"text-align: right;\">\n",
       "      <th></th>\n",
       "      <th>id</th>\n",
       "      <th>svevo</th>\n",
       "    </tr>\n",
       "  </thead>\n",
       "  <tbody>\n",
       "    <tr>\n",
       "      <th>0</th>\n",
       "      <td>TRIDC3Av2G023650</td>\n",
       "      <td>TRITD3Av1G027010</td>\n",
       "    </tr>\n",
       "    <tr>\n",
       "      <th>1</th>\n",
       "      <td>TRIDC3Av2G023690</td>\n",
       "      <td>TRITD3Av1G027040</td>\n",
       "    </tr>\n",
       "    <tr>\n",
       "      <th>2</th>\n",
       "      <td>TRIDC3Av2G023850</td>\n",
       "      <td>TRITD3Av1G027200</td>\n",
       "    </tr>\n",
       "  </tbody>\n",
       "</table>\n",
       "</div>"
      ],
      "text/plain": [
       "                 id             svevo\n",
       "0  TRIDC3Av2G023650  TRITD3Av1G027010\n",
       "1  TRIDC3Av2G023690  TRITD3Av1G027040\n",
       "2  TRIDC3Av2G023850  TRITD3Av1G027200"
      ]
     },
     "execution_count": 126,
     "metadata": {},
     "output_type": "execute_result"
    }
   ],
   "source": [
    "df_zavitan_merge = pd.merge(df_zavitan, df_blast, left_on='id', right_on='zavitan', how='left')\n",
    "df_zavitan_merge = df_zavitan_merge[['id','svevo']]\n",
    "df_zavitan_merge.head(3)"
   ]
  },
  {
   "cell_type": "code",
   "execution_count": 127,
   "metadata": {},
   "outputs": [
    {
     "data": {
      "text/html": [
       "<div>\n",
       "<style scoped>\n",
       "    .dataframe tbody tr th:only-of-type {\n",
       "        vertical-align: middle;\n",
       "    }\n",
       "\n",
       "    .dataframe tbody tr th {\n",
       "        vertical-align: top;\n",
       "    }\n",
       "\n",
       "    .dataframe thead th {\n",
       "        text-align: right;\n",
       "    }\n",
       "</style>\n",
       "<table border=\"1\" class=\"dataframe\">\n",
       "  <thead>\n",
       "    <tr style=\"text-align: right;\">\n",
       "      <th></th>\n",
       "      <th>id</th>\n",
       "      <th>zavitan</th>\n",
       "    </tr>\n",
       "  </thead>\n",
       "  <tbody>\n",
       "    <tr>\n",
       "      <th>0</th>\n",
       "      <td>TRITD3Av1G026840</td>\n",
       "      <td>NaN</td>\n",
       "    </tr>\n",
       "    <tr>\n",
       "      <th>1</th>\n",
       "      <td>TRITD3Av1G026860</td>\n",
       "      <td>NaN</td>\n",
       "    </tr>\n",
       "    <tr>\n",
       "      <th>2</th>\n",
       "      <td>TRITD3Av1G027010</td>\n",
       "      <td>TRIDC3Av2G023650</td>\n",
       "    </tr>\n",
       "  </tbody>\n",
       "</table>\n",
       "</div>"
      ],
      "text/plain": [
       "                 id           zavitan\n",
       "0  TRITD3Av1G026840               NaN\n",
       "1  TRITD3Av1G026860               NaN\n",
       "2  TRITD3Av1G027010  TRIDC3Av2G023650"
      ]
     },
     "execution_count": 127,
     "metadata": {},
     "output_type": "execute_result"
    }
   ],
   "source": [
    "df_svevo_merge = pd.merge(df_svevo, df_blast, left_on='id', right_on='svevo', how='left')\n",
    "df_svevo_merge = df_svevo_merge[['id','zavitan']]\n",
    "df_svevo_merge.head(3)"
   ]
  },
  {
   "cell_type": "code",
   "execution_count": 128,
   "metadata": {},
   "outputs": [],
   "source": [
    "df_merge = pd.merge(df_svevo_merge, df_zavitan_merge, left_on='id', right_on='svevo', how='outer')\n",
    "df_merge = df_merge[['id_x','id_y']]\n",
    "df_merge.columns = ['svevo','zavitan']\n"
   ]
  },
  {
   "cell_type": "code",
   "execution_count": 129,
   "metadata": {},
   "outputs": [],
   "source": [
    "df_merge.to_csv('disk/counts/cross.csv', sep=',', index=None)"
   ]
  },
  {
   "cell_type": "code",
   "execution_count": 180,
   "metadata": {},
   "outputs": [
    {
     "name": "stdout",
     "output_type": "stream",
     "text": [
      "297\n"
     ]
    },
    {
     "data": {
      "text/html": [
       "<div>\n",
       "<style scoped>\n",
       "    .dataframe tbody tr th:only-of-type {\n",
       "        vertical-align: middle;\n",
       "    }\n",
       "\n",
       "    .dataframe tbody tr th {\n",
       "        vertical-align: top;\n",
       "    }\n",
       "\n",
       "    .dataframe thead th {\n",
       "        text-align: right;\n",
       "    }\n",
       "</style>\n",
       "<table border=\"1\" class=\"dataframe\">\n",
       "  <thead>\n",
       "    <tr style=\"text-align: right;\">\n",
       "      <th></th>\n",
       "      <th>svevo</th>\n",
       "      <th>zavitan</th>\n",
       "    </tr>\n",
       "  </thead>\n",
       "  <tbody>\n",
       "    <tr>\n",
       "      <th>0</th>\n",
       "      <td>TRITD3Av1G026840</td>\n",
       "      <td>NaN</td>\n",
       "    </tr>\n",
       "    <tr>\n",
       "      <th>1</th>\n",
       "      <td>TRITD3Av1G026860</td>\n",
       "      <td>NaN</td>\n",
       "    </tr>\n",
       "    <tr>\n",
       "      <th>2</th>\n",
       "      <td>TRITD3Av1G027010</td>\n",
       "      <td>TRIDC3Av2G023650</td>\n",
       "    </tr>\n",
       "  </tbody>\n",
       "</table>\n",
       "</div>"
      ],
      "text/plain": [
       "              svevo           zavitan\n",
       "0  TRITD3Av1G026840               NaN\n",
       "1  TRITD3Av1G026860               NaN\n",
       "2  TRITD3Av1G027010  TRIDC3Av2G023650"
      ]
     },
     "execution_count": 180,
     "metadata": {},
     "output_type": "execute_result"
    }
   ],
   "source": [
    "print(len(df_merge.index))\n",
    "df_merge.head(3)"
   ]
  },
  {
   "cell_type": "code",
   "execution_count": 168,
   "metadata": {},
   "outputs": [],
   "source": [
    "#add info to list\n",
    "file_ann_svevo = 'disk/PGSB_TRITD_Jan2017_all.gff3'\n",
    "file_ann_zav_v2 = 'disk/SORTED_WEW_v2_HC_e_LC_GFF3_CATTATI_gff_PAO_26feb18.gff3'\n",
    "\n",
    "df_ann_sv = pd.read_csv(file_ann_svevo, index_col=False, sep='\\t', header=None)\n",
    "df_ann_sv.columns = ['seqname', 'source', 'feature', 'start', 'end', 'score', 'strand', 'frame', 'attribute']\n",
    "\n",
    "df_ann_zv = pd.read_csv(file_ann_zav_v2, index_col=False, sep='\\t', header=None)\n",
    "df_ann_zv.columns = ['seqname', 'source', 'feature', 'start', 'end', 'score', 'strand', 'frame', 'attribute']\n",
    "\n",
    "df_ann_zv = df_ann_zv[df_ann_zv.feature=='gene']\n",
    "df_ann_zv = df_ann_zv[df_ann_zv.seqname == 'chr3A']\n",
    "df_ann_sv = df_ann_sv[df_ann_sv.feature =='gene']\n",
    "df_ann_sv = df_ann_sv[df_ann_sv.seqname == 'chr3A']\n",
    "\n"
   ]
  },
  {
   "cell_type": "code",
   "execution_count": 169,
   "metadata": {},
   "outputs": [],
   "source": [
    "df_ann_sv['gene'] = df_ann_sv.attribute.str.split(';', expand=True)[0].str.split('=', expand=True)[1]\n",
    "df_ann_zv['gene'] = df_ann_zv.attribute.str.split(';', expand=True)[0].str.split('=', expand=True)[1]\n",
    "\n",
    "df_ann_sv = df_ann_sv[['seqname','start','end','gene']]\n",
    "df_ann_zv = df_ann_zv[['seqname','start','end','gene']]"
   ]
  },
  {
   "cell_type": "code",
   "execution_count": null,
   "metadata": {},
   "outputs": [],
   "source": []
  },
  {
   "cell_type": "code",
   "execution_count": null,
   "metadata": {},
   "outputs": [],
   "source": []
  },
  {
   "cell_type": "code",
   "execution_count": 185,
   "metadata": {},
   "outputs": [],
   "source": [
    "#adds svevo coordinates\n",
    "df_merge_svevo = pd.merge(df_merge, df_ann_sv, left_on='svevo', right_on='gene', how='left')\n",
    "df_merge_svevo = df_merge_svevo[['seqname','start','end','svevo','zavitan']]\n",
    "df_merge_svevo.columns = ['svevo.seqname','svevo.start','svevo.end','svevo.gene','zavitan.gene']"
   ]
  },
  {
   "cell_type": "code",
   "execution_count": 186,
   "metadata": {},
   "outputs": [
    {
     "data": {
      "text/html": [
       "<div>\n",
       "<style scoped>\n",
       "    .dataframe tbody tr th:only-of-type {\n",
       "        vertical-align: middle;\n",
       "    }\n",
       "\n",
       "    .dataframe tbody tr th {\n",
       "        vertical-align: top;\n",
       "    }\n",
       "\n",
       "    .dataframe thead th {\n",
       "        text-align: right;\n",
       "    }\n",
       "</style>\n",
       "<table border=\"1\" class=\"dataframe\">\n",
       "  <thead>\n",
       "    <tr style=\"text-align: right;\">\n",
       "      <th></th>\n",
       "      <th>svevo.seqname</th>\n",
       "      <th>svevo.start</th>\n",
       "      <th>svevo.end</th>\n",
       "      <th>svevo.gene</th>\n",
       "      <th>zavitan.gene</th>\n",
       "    </tr>\n",
       "  </thead>\n",
       "  <tbody>\n",
       "    <tr>\n",
       "      <th>0</th>\n",
       "      <td>chr3A</td>\n",
       "      <td>54132399</td>\n",
       "      <td>54132875</td>\n",
       "      <td>TRITD3Av1G026840</td>\n",
       "      <td>NaN</td>\n",
       "    </tr>\n",
       "    <tr>\n",
       "      <th>1</th>\n",
       "      <td>chr3A</td>\n",
       "      <td>54184665</td>\n",
       "      <td>54187934</td>\n",
       "      <td>TRITD3Av1G026860</td>\n",
       "      <td>NaN</td>\n",
       "    </tr>\n",
       "    <tr>\n",
       "      <th>2</th>\n",
       "      <td>chr3A</td>\n",
       "      <td>54339905</td>\n",
       "      <td>54342744</td>\n",
       "      <td>TRITD3Av1G027010</td>\n",
       "      <td>TRIDC3Av2G023650</td>\n",
       "    </tr>\n",
       "    <tr>\n",
       "      <th>3</th>\n",
       "      <td>chr3A</td>\n",
       "      <td>54405290</td>\n",
       "      <td>54410142</td>\n",
       "      <td>TRITD3Av1G027040</td>\n",
       "      <td>TRIDC3Av2G023690</td>\n",
       "    </tr>\n",
       "    <tr>\n",
       "      <th>4</th>\n",
       "      <td>chr3A</td>\n",
       "      <td>54889963</td>\n",
       "      <td>54900503</td>\n",
       "      <td>TRITD3Av1G027200</td>\n",
       "      <td>TRIDC3Av2G023850</td>\n",
       "    </tr>\n",
       "  </tbody>\n",
       "</table>\n",
       "</div>"
      ],
      "text/plain": [
       "  svevo.seqname  svevo.start  svevo.end        svevo.gene      zavitan.gene\n",
       "0         chr3A     54132399   54132875  TRITD3Av1G026840               NaN\n",
       "1         chr3A     54184665   54187934  TRITD3Av1G026860               NaN\n",
       "2         chr3A     54339905   54342744  TRITD3Av1G027010  TRIDC3Av2G023650\n",
       "3         chr3A     54405290   54410142  TRITD3Av1G027040  TRIDC3Av2G023690\n",
       "4         chr3A     54889963   54900503  TRITD3Av1G027200  TRIDC3Av2G023850"
      ]
     },
     "execution_count": 186,
     "metadata": {},
     "output_type": "execute_result"
    }
   ],
   "source": [
    "df_merge_info.head(5)"
   ]
  },
  {
   "cell_type": "code",
   "execution_count": 187,
   "metadata": {},
   "outputs": [],
   "source": [
    "#adds zavitan coordinates\n",
    "df_merge_zavitan = pd.merge(df_merge_svevo, df_ann_zv, left_on='zavitan.gene', right_on='gene', how='left')\n",
    "df_merge_zavitan = df_merge_zavitan[['svevo.seqname','svevo.start','svevo.end','svevo.gene','zavitan.gene','seqname','start','end']]\n",
    "df_merge_zavitan.columns = ['svevo.seqname','svevo.start','svevo.end','svevo.gene','zavitan.gene','zavitan.seqname','zavitan.start','zavitan.end']\n",
    "\n"
   ]
  },
  {
   "cell_type": "code",
   "execution_count": 188,
   "metadata": {},
   "outputs": [],
   "source": [
    "df_merge_zavitan.to_csv('disk/counts/cross_info.csv', sep=',', index=None)"
   ]
  },
  {
   "cell_type": "code",
   "execution_count": null,
   "metadata": {},
   "outputs": [],
   "source": []
  }
 ],
 "metadata": {
  "kernelspec": {
   "display_name": "Python 3",
   "language": "python",
   "name": "python3"
  },
  "language_info": {
   "codemirror_mode": {
    "name": "ipython",
    "version": 3
   },
   "file_extension": ".py",
   "mimetype": "text/x-python",
   "name": "python",
   "nbconvert_exporter": "python",
   "pygments_lexer": "ipython3",
   "version": "3.6.5"
  }
 },
 "nbformat": 4,
 "nbformat_minor": 2
}
