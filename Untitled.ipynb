{
 "cells": [
  {
   "cell_type": "code",
   "execution_count": 151,
   "metadata": {},
   "outputs": [],
   "source": [
    "import pandas as pd\n",
    "pd.set_option('display.max_columns', 500)\n",
    "pd.set_option('display.width', 1000)"
   ]
  },
  {
   "cell_type": "code",
   "execution_count": 152,
   "metadata": {},
   "outputs": [],
   "source": [
    "vcf_path = 'data/all.filtered.2.vcf'\n"
   ]
  },
  {
   "cell_type": "code",
   "execution_count": 153,
   "metadata": {
    "scrolled": true
   },
   "outputs": [
    {
     "name": "stdout",
     "output_type": "stream",
     "text": [
      "51660\n"
     ]
    },
    {
     "data": {
      "text/html": [
       "<div>\n",
       "<style scoped>\n",
       "    .dataframe tbody tr th:only-of-type {\n",
       "        vertical-align: middle;\n",
       "    }\n",
       "\n",
       "    .dataframe tbody tr th {\n",
       "        vertical-align: top;\n",
       "    }\n",
       "\n",
       "    .dataframe thead th {\n",
       "        text-align: right;\n",
       "    }\n",
       "</style>\n",
       "<table border=\"1\" class=\"dataframe\">\n",
       "  <thead>\n",
       "    <tr style=\"text-align: right;\">\n",
       "      <th></th>\n",
       "      <th>CHROM</th>\n",
       "      <th>POS</th>\n",
       "      <th>ID</th>\n",
       "      <th>REF</th>\n",
       "      <th>ALT</th>\n",
       "      <th>QUAL</th>\n",
       "      <th>FILTER</th>\n",
       "      <th>INFO</th>\n",
       "      <th>FORMAT</th>\n",
       "      <th>TL</th>\n",
       "      <th>TD</th>\n",
       "    </tr>\n",
       "  </thead>\n",
       "  <tbody>\n",
       "    <tr>\n",
       "      <th>0</th>\n",
       "      <td>chr1A</td>\n",
       "      <td>1098670</td>\n",
       "      <td>.</td>\n",
       "      <td>T</td>\n",
       "      <td>C</td>\n",
       "      <td>483</td>\n",
       "      <td>PASS</td>\n",
       "      <td>DP=61;ADF=0,33;ADR=0,23;AD=0,56;VDB=0.726808;S...</td>\n",
       "      <td>GT:PL:DP:SP:ADF:ADR:AD</td>\n",
       "      <td>1/1:255,81,0:27:0:0,18:0,9:0,27</td>\n",
       "      <td>1/1:255,87,0:29:0:0,15:0,14:0,29</td>\n",
       "    </tr>\n",
       "    <tr>\n",
       "      <th>1</th>\n",
       "      <td>chr1A</td>\n",
       "      <td>1101224</td>\n",
       "      <td>.</td>\n",
       "      <td>G</td>\n",
       "      <td>T</td>\n",
       "      <td>483</td>\n",
       "      <td>PASS</td>\n",
       "      <td>DP=64;ADF=0,43;ADR=0,20;AD=0,63;VDB=0.350696;S...</td>\n",
       "      <td>GT:PL:DP:SP:ADF:ADR:AD</td>\n",
       "      <td>1/1:255,81,0:27:0:0,20:0,7:0,27</td>\n",
       "      <td>1/1:255,108,0:36:0:0,23:0,13:0,36</td>\n",
       "    </tr>\n",
       "    <tr>\n",
       "      <th>2</th>\n",
       "      <td>chr1A</td>\n",
       "      <td>1101457</td>\n",
       "      <td>.</td>\n",
       "      <td>T</td>\n",
       "      <td>C</td>\n",
       "      <td>483</td>\n",
       "      <td>PASS</td>\n",
       "      <td>DP=53;ADF=0,28;ADR=0,22;AD=0,50;VDB=0.0135607;...</td>\n",
       "      <td>GT:PL:DP:SP:ADF:ADR:AD</td>\n",
       "      <td>1/1:255,60,0:20:0:0,15:0,5:0,20</td>\n",
       "      <td>1/1:255,90,0:30:0:0,13:0,17:0,30</td>\n",
       "    </tr>\n",
       "    <tr>\n",
       "      <th>3</th>\n",
       "      <td>chr1A</td>\n",
       "      <td>1101480</td>\n",
       "      <td>.</td>\n",
       "      <td>C</td>\n",
       "      <td>T</td>\n",
       "      <td>483</td>\n",
       "      <td>PASS</td>\n",
       "      <td>DP=57;ADF=0,29;ADR=0,23;AD=0,52;VDB=0.993859;S...</td>\n",
       "      <td>GT:PL:DP:SP:ADF:ADR:AD</td>\n",
       "      <td>1/1:255,75,0:25:0:0,15:0,10:0,25</td>\n",
       "      <td>1/1:255,81,0:27:0:0,14:0,13:0,27</td>\n",
       "    </tr>\n",
       "  </tbody>\n",
       "</table>\n",
       "</div>"
      ],
      "text/plain": [
       "   CHROM      POS ID REF ALT  QUAL FILTER                                               INFO                  FORMAT                                TL                                 TD\n",
       "0  chr1A  1098670  .   T   C   483   PASS  DP=61;ADF=0,33;ADR=0,23;AD=0,56;VDB=0.726808;S...  GT:PL:DP:SP:ADF:ADR:AD   1/1:255,81,0:27:0:0,18:0,9:0,27   1/1:255,87,0:29:0:0,15:0,14:0,29\n",
       "1  chr1A  1101224  .   G   T   483   PASS  DP=64;ADF=0,43;ADR=0,20;AD=0,63;VDB=0.350696;S...  GT:PL:DP:SP:ADF:ADR:AD   1/1:255,81,0:27:0:0,20:0,7:0,27  1/1:255,108,0:36:0:0,23:0,13:0,36\n",
       "2  chr1A  1101457  .   T   C   483   PASS  DP=53;ADF=0,28;ADR=0,22;AD=0,50;VDB=0.0135607;...  GT:PL:DP:SP:ADF:ADR:AD   1/1:255,60,0:20:0:0,15:0,5:0,20   1/1:255,90,0:30:0:0,13:0,17:0,30\n",
       "3  chr1A  1101480  .   C   T   483   PASS  DP=57;ADF=0,29;ADR=0,23;AD=0,52;VDB=0.993859;S...  GT:PL:DP:SP:ADF:ADR:AD  1/1:255,75,0:25:0:0,15:0,10:0,25   1/1:255,81,0:27:0:0,14:0,13:0,27"
      ]
     },
     "execution_count": 153,
     "metadata": {},
     "output_type": "execute_result"
    }
   ],
   "source": [
    "df = pd.read_csv(vcf_path, sep='\\t', comment='#', header=None)\n",
    "vcf_cols = ['CHROM','POS','ID','REF','ALT','QUAL','FILTER','INFO','FORMAT','TL','TD']\n",
    "df.columns = vcf_cols\n",
    "print(len(df.index))\n",
    "df.head(4)"
   ]
  },
  {
   "cell_type": "code",
   "execution_count": 154,
   "metadata": {},
   "outputs": [],
   "source": [
    "df['TL_GT'] = df['TL'].str.split(\":\").str[0]\n",
    "df['TL_PL'] = df['TL'].str.split(\":\").str[1]\n",
    "df['TL_DP'] = df['TL'].str.split(\":\").str[2]\n",
    "df['TL_SP'] = df['TL'].str.split(\":\").str[3]\n",
    "df['TL_ADF'] = df['TL'].str.split(\":\").str[4]\n",
    "df['TL_ADR'] = df['TL'].str.split(\":\").str[5]\n",
    "df['TL_AD'] = df['TL'].str.split(\":\").str[6]\n",
    "\n",
    "df['TD_GT'] = df['TD'].str.split(\":\").str[0]\n",
    "df['TD_PL'] = df['TD'].str.split(\":\").str[1]\n",
    "df['TD_DP'] = df['TD'].str.split(\":\").str[2]\n",
    "df['TD_SP'] = df['TD'].str.split(\":\").str[3]\n",
    "df['TD_ADF'] = df['TD'].str.split(\":\").str[4]\n",
    "df['TD_ADR'] = df['TD'].str.split(\":\").str[5]\n",
    "df['TD_AD'] = df['TD'].str.split(\":\").str[6]\n",
    "\n",
    "df['TL_DP'] = df['TL_DP'].astype(int)\n",
    "df['TD_DP'] = df['TD_DP'].astype(int)"
   ]
  },
  {
   "cell_type": "code",
   "execution_count": 155,
   "metadata": {},
   "outputs": [
    {
     "data": {
      "text/html": [
       "<div>\n",
       "<style scoped>\n",
       "    .dataframe tbody tr th:only-of-type {\n",
       "        vertical-align: middle;\n",
       "    }\n",
       "\n",
       "    .dataframe tbody tr th {\n",
       "        vertical-align: top;\n",
       "    }\n",
       "\n",
       "    .dataframe thead th {\n",
       "        text-align: right;\n",
       "    }\n",
       "</style>\n",
       "<table border=\"1\" class=\"dataframe\">\n",
       "  <thead>\n",
       "    <tr style=\"text-align: right;\">\n",
       "      <th></th>\n",
       "      <th>CHROM</th>\n",
       "      <th>POS</th>\n",
       "      <th>ID</th>\n",
       "      <th>REF</th>\n",
       "      <th>ALT</th>\n",
       "      <th>QUAL</th>\n",
       "      <th>FILTER</th>\n",
       "      <th>INFO</th>\n",
       "      <th>FORMAT</th>\n",
       "      <th>TL</th>\n",
       "      <th>TD</th>\n",
       "      <th>TL_GT</th>\n",
       "      <th>TL_PL</th>\n",
       "      <th>TL_DP</th>\n",
       "      <th>TL_SP</th>\n",
       "      <th>TL_ADF</th>\n",
       "      <th>TL_ADR</th>\n",
       "      <th>TL_AD</th>\n",
       "      <th>TD_GT</th>\n",
       "      <th>TD_PL</th>\n",
       "      <th>TD_DP</th>\n",
       "      <th>TD_SP</th>\n",
       "      <th>TD_ADF</th>\n",
       "      <th>TD_ADR</th>\n",
       "      <th>TD_AD</th>\n",
       "    </tr>\n",
       "  </thead>\n",
       "  <tbody>\n",
       "    <tr>\n",
       "      <th>0</th>\n",
       "      <td>chr1A</td>\n",
       "      <td>1098670</td>\n",
       "      <td>.</td>\n",
       "      <td>T</td>\n",
       "      <td>C</td>\n",
       "      <td>483</td>\n",
       "      <td>PASS</td>\n",
       "      <td>DP=61;ADF=0,33;ADR=0,23;AD=0,56;VDB=0.726808;S...</td>\n",
       "      <td>GT:PL:DP:SP:ADF:ADR:AD</td>\n",
       "      <td>1/1:255,81,0:27:0:0,18:0,9:0,27</td>\n",
       "      <td>1/1:255,87,0:29:0:0,15:0,14:0,29</td>\n",
       "      <td>1/1</td>\n",
       "      <td>255,81,0</td>\n",
       "      <td>27</td>\n",
       "      <td>0</td>\n",
       "      <td>0,18</td>\n",
       "      <td>0,9</td>\n",
       "      <td>0,27</td>\n",
       "      <td>1/1</td>\n",
       "      <td>255,87,0</td>\n",
       "      <td>29</td>\n",
       "      <td>0</td>\n",
       "      <td>0,15</td>\n",
       "      <td>0,14</td>\n",
       "      <td>0,29</td>\n",
       "    </tr>\n",
       "    <tr>\n",
       "      <th>1</th>\n",
       "      <td>chr1A</td>\n",
       "      <td>1101224</td>\n",
       "      <td>.</td>\n",
       "      <td>G</td>\n",
       "      <td>T</td>\n",
       "      <td>483</td>\n",
       "      <td>PASS</td>\n",
       "      <td>DP=64;ADF=0,43;ADR=0,20;AD=0,63;VDB=0.350696;S...</td>\n",
       "      <td>GT:PL:DP:SP:ADF:ADR:AD</td>\n",
       "      <td>1/1:255,81,0:27:0:0,20:0,7:0,27</td>\n",
       "      <td>1/1:255,108,0:36:0:0,23:0,13:0,36</td>\n",
       "      <td>1/1</td>\n",
       "      <td>255,81,0</td>\n",
       "      <td>27</td>\n",
       "      <td>0</td>\n",
       "      <td>0,20</td>\n",
       "      <td>0,7</td>\n",
       "      <td>0,27</td>\n",
       "      <td>1/1</td>\n",
       "      <td>255,108,0</td>\n",
       "      <td>36</td>\n",
       "      <td>0</td>\n",
       "      <td>0,23</td>\n",
       "      <td>0,13</td>\n",
       "      <td>0,36</td>\n",
       "    </tr>\n",
       "  </tbody>\n",
       "</table>\n",
       "</div>"
      ],
      "text/plain": [
       "   CHROM      POS ID REF ALT  QUAL FILTER                                               INFO                  FORMAT                               TL                                 TD TL_GT     TL_PL  TL_DP TL_SP TL_ADF TL_ADR TL_AD TD_GT      TD_PL  TD_DP TD_SP TD_ADF TD_ADR TD_AD\n",
       "0  chr1A  1098670  .   T   C   483   PASS  DP=61;ADF=0,33;ADR=0,23;AD=0,56;VDB=0.726808;S...  GT:PL:DP:SP:ADF:ADR:AD  1/1:255,81,0:27:0:0,18:0,9:0,27   1/1:255,87,0:29:0:0,15:0,14:0,29   1/1  255,81,0     27     0   0,18    0,9  0,27   1/1   255,87,0     29     0   0,15   0,14  0,29\n",
       "1  chr1A  1101224  .   G   T   483   PASS  DP=64;ADF=0,43;ADR=0,20;AD=0,63;VDB=0.350696;S...  GT:PL:DP:SP:ADF:ADR:AD  1/1:255,81,0:27:0:0,20:0,7:0,27  1/1:255,108,0:36:0:0,23:0,13:0,36   1/1  255,81,0     27     0   0,20    0,7  0,27   1/1  255,108,0     36     0   0,23   0,13  0,36"
      ]
     },
     "execution_count": 155,
     "metadata": {},
     "output_type": "execute_result"
    }
   ],
   "source": [
    "df.head(2)"
   ]
  },
  {
   "cell_type": "code",
   "execution_count": 156,
   "metadata": {},
   "outputs": [
    {
     "name": "stdout",
     "output_type": "stream",
     "text": [
      "51660\n",
      "46823\n",
      "2965\n",
      "479\n",
      "451\n",
      "449\n",
      "200\n"
     ]
    }
   ],
   "source": [
    "print(len(df.index))\n",
    "#remove any missing data\n",
    "remove = df[(df['TL_GT'] == './.') | (df['TD_GT'] == './.')]\n",
    "df = df[~df.index.isin(remove.index)]\n",
    "print(len(df.index))\n",
    "#remove both 1/1\n",
    "remove = df[(df['TL_GT'] == '1/1') & (df['TD_GT'] == '1/1')]\n",
    "df = df[~df.index.isin(remove.index)]\n",
    "print(len(df.index))\n",
    "#remove any hetero\n",
    "remove = df[(df['TL_GT'] == '0/1') | (df['TD_GT'] == '0/1')]\n",
    "df = df[~df.index.isin(remove.index)]\n",
    "print(len(df.index))\n",
    "#remove any hetero 2\n",
    "remove = df[(df['TL_GT'] == '1/2') | (df['TD_GT'] == '1/2')]\n",
    "df = df[~df.index.isin(remove.index)]\n",
    "print(len(df.index))\n",
    "#remove any hetero 3\n",
    "remove = df[(df['TL_GT'] == '0/2') | (df['TD_GT'] == '0/2')]\n",
    "df = df[~df.index.isin(remove.index)]\n",
    "print(len(df.index))\n",
    "#remove any with DP < 3\n",
    "remove = df[(df['TL_DP'] < 4) | (df['TD_DP'] < 4)]\n",
    "df = df[~df.index.isin(remove.index)]\n",
    "print(len(df.index))\n"
   ]
  },
  {
   "cell_type": "code",
   "execution_count": null,
   "metadata": {
    "scrolled": false
   },
   "outputs": [],
   "source": []
  },
  {
   "cell_type": "code",
   "execution_count": null,
   "metadata": {},
   "outputs": [],
   "source": []
  },
  {
   "cell_type": "code",
   "execution_count": 157,
   "metadata": {},
   "outputs": [
    {
     "data": {
      "text/plain": [
       "CHROM\n",
       "chr1A     3\n",
       "chr1B    18\n",
       "chr2A     4\n",
       "chr2B     9\n",
       "chr3A    66\n",
       "chr3B    12\n",
       "chr4A    20\n",
       "chr4B     1\n",
       "chr5A     2\n",
       "chr5B     4\n",
       "chr6A    16\n",
       "chr6B    38\n",
       "chr7A     1\n",
       "chr7B     3\n",
       "chrUn     3\n",
       "dtype: int64"
      ]
     },
     "execution_count": 157,
     "metadata": {},
     "output_type": "execute_result"
    }
   ],
   "source": [
    "df.groupby(['CHROM']).size()\n"
   ]
  },
  {
   "cell_type": "code",
   "execution_count": 158,
   "metadata": {},
   "outputs": [],
   "source": [
    "df = df[vcf_cols]"
   ]
  },
  {
   "cell_type": "code",
   "execution_count": 159,
   "metadata": {},
   "outputs": [],
   "source": [
    "df.to_csv('data/res.vcf', sep='\\t', index=None)"
   ]
  },
  {
   "cell_type": "code",
   "execution_count": 164,
   "metadata": {},
   "outputs": [
    {
     "data": {
      "text/html": [
       "<div>\n",
       "<style scoped>\n",
       "    .dataframe tbody tr th:only-of-type {\n",
       "        vertical-align: middle;\n",
       "    }\n",
       "\n",
       "    .dataframe tbody tr th {\n",
       "        vertical-align: top;\n",
       "    }\n",
       "\n",
       "    .dataframe thead th {\n",
       "        text-align: right;\n",
       "    }\n",
       "</style>\n",
       "<table border=\"1\" class=\"dataframe\">\n",
       "  <thead>\n",
       "    <tr style=\"text-align: right;\">\n",
       "      <th></th>\n",
       "      <th>CHROM</th>\n",
       "      <th>POS</th>\n",
       "      <th>ID</th>\n",
       "      <th>REF</th>\n",
       "      <th>ALT</th>\n",
       "      <th>QUAL</th>\n",
       "      <th>FILTER</th>\n",
       "      <th>INFO</th>\n",
       "      <th>FORMAT</th>\n",
       "      <th>TL</th>\n",
       "      <th>TD</th>\n",
       "    </tr>\n",
       "  </thead>\n",
       "  <tbody>\n",
       "    <tr>\n",
       "      <th>2481</th>\n",
       "      <td>chr1A</td>\n",
       "      <td>507880178</td>\n",
       "      <td>.</td>\n",
       "      <td>T</td>\n",
       "      <td>G</td>\n",
       "      <td>216</td>\n",
       "      <td>PASS</td>\n",
       "      <td>DP=37;ADF=1,11;ADR=6,16;AD=7,27;VDB=0.894987;S...</td>\n",
       "      <td>GT:PL:DP:SP:ADF:ADR:AD</td>\n",
       "      <td>0/0:0,21,171:7:0:1,0:6,0:7,0</td>\n",
       "      <td>1/1:255,81,0:27:0:0,11:0,16:0,27</td>\n",
       "    </tr>\n",
       "    <tr>\n",
       "      <th>2486</th>\n",
       "      <td>chr1A</td>\n",
       "      <td>508850330</td>\n",
       "      <td>.</td>\n",
       "      <td>C</td>\n",
       "      <td>T</td>\n",
       "      <td>216</td>\n",
       "      <td>PASS</td>\n",
       "      <td>DP=58;ADF=12,39;ADR=1,6;AD=13,45;VDB=3.72083e-...</td>\n",
       "      <td>GT:PL:DP:SP:ADF:ADR:AD</td>\n",
       "      <td>1/1:255,135,0:45:0:0,39:0,6:0,45</td>\n",
       "      <td>0/0:0,39,218:13:0:12,0:1,0:13,0</td>\n",
       "    </tr>\n",
       "    <tr>\n",
       "      <th>2578</th>\n",
       "      <td>chr1A</td>\n",
       "      <td>523266049</td>\n",
       "      <td>.</td>\n",
       "      <td>A</td>\n",
       "      <td>G</td>\n",
       "      <td>219</td>\n",
       "      <td>PASS</td>\n",
       "      <td>DP=215;ADF=15,69;ADR=23,96;AD=38,165;VDB=0.047...</td>\n",
       "      <td>GT:PL:DP:SP:ADF:ADR:AD</td>\n",
       "      <td>1/1:255,190,0:176:2:4,68:9,95:13,163</td>\n",
       "      <td>0/0:0,4,255:27:0:11,1:14,1:25,2</td>\n",
       "    </tr>\n",
       "  </tbody>\n",
       "</table>\n",
       "</div>"
      ],
      "text/plain": [
       "      CHROM        POS ID REF ALT  QUAL FILTER                                               INFO                  FORMAT                                    TL                                TD\n",
       "2481  chr1A  507880178  .   T   G   216   PASS  DP=37;ADF=1,11;ADR=6,16;AD=7,27;VDB=0.894987;S...  GT:PL:DP:SP:ADF:ADR:AD          0/0:0,21,171:7:0:1,0:6,0:7,0  1/1:255,81,0:27:0:0,11:0,16:0,27\n",
       "2486  chr1A  508850330  .   C   T   216   PASS  DP=58;ADF=12,39;ADR=1,6;AD=13,45;VDB=3.72083e-...  GT:PL:DP:SP:ADF:ADR:AD      1/1:255,135,0:45:0:0,39:0,6:0,45   0/0:0,39,218:13:0:12,0:1,0:13,0\n",
       "2578  chr1A  523266049  .   A   G   219   PASS  DP=215;ADF=15,69;ADR=23,96;AD=38,165;VDB=0.047...  GT:PL:DP:SP:ADF:ADR:AD  1/1:255,190,0:176:2:4,68:9,95:13,163   0/0:0,4,255:27:0:11,1:14,1:25,2"
      ]
     },
     "execution_count": 164,
     "metadata": {},
     "output_type": "execute_result"
    }
   ],
   "source": [
    "df[df['CHROM'] == 'chr1A']"
   ]
  },
  {
   "cell_type": "code",
   "execution_count": 169,
   "metadata": {},
   "outputs": [
    {
     "data": {
      "image/png": "[encoded data removed]",
      "text/plain": [
       "<Figure size 432x288 with 1 Axes>"
      ]
     },
     "metadata": {
      "needs_background": "light"
     },
     "output_type": "display_data"
    }
   ],
   "source": [
    "ax = df.groupby(['CHROM']).size().plot(kind='bar')\n",
    "fig = ax.get_figure()\n",
    "fig.savefig('data/plot.png',bbox_inches=\"tight\")"
   ]
  },
  {
   "cell_type": "code",
   "execution_count": null,
   "metadata": {},
   "outputs": [],
   "source": []
  },
  {
   "cell_type": "code",
   "execution_count": null,
   "metadata": {},
   "outputs": [],
   "source": []
  },
  {
   "cell_type": "code",
   "execution_count": null,
   "metadata": {},
   "outputs": [],
   "source": []
  },
  {
   "cell_type": "code",
   "execution_count": null,
   "metadata": {},
   "outputs": [],
   "source": []
  }
 ],
 "metadata": {
  "kernelspec": {
   "display_name": "Python 3",
   "language": "python",
   "name": "python3"
  },
  "language_info": {
   "codemirror_mode": {
    "name": "ipython",
    "version": 3
   },
   "file_extension": ".py",
   "mimetype": "text/x-python",
   "name": "python",
   "nbconvert_exporter": "python",
   "pygments_lexer": "ipython3",
   "version": "3.6.5"
  }
 },
 "nbformat": 4,
 "nbformat_minor": 2
}
