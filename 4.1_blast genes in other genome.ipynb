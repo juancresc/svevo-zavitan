{
 "cells": [
  {
   "cell_type": "code",
   "execution_count": null,
   "metadata": {},
   "outputs": [],
   "source": [
    "#blastn  -perc_identity 85 -query disk/counts/svevo.counts.fa   -subject disk/151210_Emmer_zavitan_v2_pseudomolecules.fasta.fa  -outfmt \"6 qseqid sseqid pident mismatch gapopen qstart qend sstart send evalue length qlen slen\"  -evalue 10e-10 > disk/counts/svevo_genes_zavitan_genome.csv\n",
    "#blastn  -perc_identity 85 -query disk/counts/zav_v2.counts.fa    -subject disk/160802_Svevo_v2_pseudomolecules.fasta  -outfmt \"6 qseqid sseqid pidentmismatch gapopen qstart qend sstart send evalue length qlen slen\"  -evalue 10e-10 > disk/counts/zavitan_genes_svevo_genome.csv"
   ]
  },
  {
   "cell_type": "code",
   "execution_count": null,
   "metadata": {},
   "outputs": [],
   "source": [
    "import pandas as pd"
   ]
  },
  {
   "cell_type": "code",
   "execution_count": null,
   "metadata": {},
   "outputs": [],
   "source": [
    "#ZV genes in SV genome\n",
    "file_blast = 'disk/counts/disk/counts/zavitan_genes_svevo_genome.csv'\n"
   ]
  },
  {
   "cell_type": "code",
   "execution_count": null,
   "metadata": {},
   "outputs": [],
   "source": [
    "#SV genes in ZV genome\n",
    "file_blast = 'disk/counts/svevo_genes_zavitan_genome.csv'\n"
   ]
  },
  {
   "cell_type": "code",
   "execution_count": null,
   "metadata": {},
   "outputs": [],
   "source": []
  },
  {
   "cell_type": "code",
   "execution_count": null,
   "metadata": {},
   "outputs": [],
   "source": [
    "df_blast = pd.read_csv(file_blast, sep='\\t', header=None)\n",
    "df_blast.columns = ['qseqid','sseqid','pident','mismatch','gapopen','qstart','qend','sstart','send','evalue','length','qlen','slen']\n",
    "df_blast.head(4)"
   ]
  },
  {
   "cell_type": "code",
   "execution_count": null,
   "metadata": {},
   "outputs": [],
   "source": [
    "df_blast = df_blast[((df_blast.length / df_blast.qlen) >= 0.7) &\n",
    "       ((df_blast.length / df_blast.slen) >= 0.7) &\n",
    "       ((df_blast.length / df_blast.qlen) <= 1.3) &\n",
    "       ((df_blast.length / df_blast.slen) <= 1.3)]\n",
    "print(len(df_blast.index))"
   ]
  }
 ],
 "metadata": {
  "kernelspec": {
   "display_name": "Python 3",
   "language": "python",
   "name": "python3"
  },
  "language_info": {
   "codemirror_mode": {
    "name": "ipython",
    "version": 3
   },
   "file_extension": ".py",
   "mimetype": "text/x-python",
   "name": "python",
   "nbconvert_exporter": "python",
   "pygments_lexer": "ipython3",
   "version": "3.6.5"
  }
 },
 "nbformat": 4,
 "nbformat_minor": 2
}
